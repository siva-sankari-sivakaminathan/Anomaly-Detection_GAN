{
 "cells": [
  {
   "cell_type": "code",
   "execution_count": 1,
   "id": "463db321",
   "metadata": {
    "_cell_guid": "b1076dfc-b9ad-4769-8c92-a6c4dae69d19",
    "_uuid": "8f2839f25d086af736a60e9eeb907d3b93b6e0e5",
    "execution": {
     "iopub.execute_input": "2024-10-18T12:04:13.051808Z",
     "iopub.status.busy": "2024-10-18T12:04:13.051236Z",
     "iopub.status.idle": "2024-10-18T12:04:14.114857Z",
     "shell.execute_reply": "2024-10-18T12:04:14.113435Z"
    },
    "papermill": {
     "duration": 1.093269,
     "end_time": "2024-10-18T12:04:14.118033",
     "exception": false,
     "start_time": "2024-10-18T12:04:13.024764",
     "status": "completed"
    },
    "tags": []
   },
   "outputs": [
    {
     "name": "stdout",
     "output_type": "stream",
     "text": [
      "/kaggle/input/kdd-cup-1999-data/kddcup.data.gz\n",
      "/kaggle/input/kdd-cup-1999-data/training_attack_types\n",
      "/kaggle/input/kdd-cup-1999-data/kddcup.data.corrected\n",
      "/kaggle/input/kdd-cup-1999-data/kddcup.newtestdata_10_percent_unlabeled.gz\n",
      "/kaggle/input/kdd-cup-1999-data/kddcup.testdata.unlabeled.gz\n",
      "/kaggle/input/kdd-cup-1999-data/corrected.gz\n",
      "/kaggle/input/kdd-cup-1999-data/kddcup.data_10_percent.gz\n",
      "/kaggle/input/kdd-cup-1999-data/kddcup.names\n",
      "/kaggle/input/kdd-cup-1999-data/kddcup.data_10_percent_corrected\n",
      "/kaggle/input/kdd-cup-1999-data/typo-correction.txt\n",
      "/kaggle/input/kdd-cup-1999-data/kddcup.testdata.unlabeled_10_percent.gz\n",
      "/kaggle/input/kdd-cup-1999-data/kddcup.data/kddcup.data\n",
      "/kaggle/input/kdd-cup-1999-data/kddcup.testdata.unlabeled/kddcup.testdata.unlabeled\n",
      "/kaggle/input/kdd-cup-1999-data/corrected/corrected\n",
      "/kaggle/input/kdd-cup-1999-data/kddcup.testdata.unlabeled_10_percent/kddcup.testdata.unlabeled_10_percent\n",
      "/kaggle/input/kdd-cup-1999-data/kddcup.newtestdata_10_percent_unlabeled/kddcup.newtestdata_10_percent_unlabeled\n",
      "/kaggle/input/kdd-cup-1999-data/kddcup.data_10_percent/kddcup.data_10_percent\n"
     ]
    }
   ],
   "source": [
    "# This Python 3 environment comes with many helpful analytics libraries installed\n",
    "# It is defined by the kaggle/python Docker image: https://github.com/kaggle/docker-python\n",
    "# For example, here's several helpful packages to load\n",
    "\n",
    "import numpy as np # linear algebra\n",
    "import pandas as pd # data processing, CSV file I/O (e.g. pd.read_csv)\n",
    "\n",
    "# Input data files are available in the read-only \"../input/\" directory\n",
    "# For example, running this (by clicking run or pressing Shift+Enter) will list all files under the input directory\n",
    "\n",
    "import os\n",
    "for dirname, _, filenames in os.walk('/kaggle/input'):\n",
    "    for filename in filenames:\n",
    "        print(os.path.join(dirname, filename))\n",
    "\n",
    "# You can write up to 20GB to the current directory (/kaggle/working/) that gets preserved as output when you create a version using \"Save & Run All\" \n",
    "# You can also write temporary files to /kaggle/temp/, but they won't be saved outside of the current session"
   ]
  },
  {
   "cell_type": "markdown",
   "id": "76072951",
   "metadata": {
    "papermill": {
     "duration": 0.022791,
     "end_time": "2024-10-18T12:04:14.165871",
     "exception": false,
     "start_time": "2024-10-18T12:04:14.143080",
     "status": "completed"
    },
    "tags": []
   },
   "source": [
    "**Import Libraries**"
   ]
  },
  {
   "cell_type": "code",
   "execution_count": 2,
   "id": "11a96a73",
   "metadata": {
    "execution": {
     "iopub.execute_input": "2024-10-18T12:04:14.215086Z",
     "iopub.status.busy": "2024-10-18T12:04:14.214509Z",
     "iopub.status.idle": "2024-10-18T12:04:31.447932Z",
     "shell.execute_reply": "2024-10-18T12:04:31.446709Z"
    },
    "papermill": {
     "duration": 17.262077,
     "end_time": "2024-10-18T12:04:31.451075",
     "exception": false,
     "start_time": "2024-10-18T12:04:14.188998",
     "status": "completed"
    },
    "tags": []
   },
   "outputs": [],
   "source": [
    "%matplotlib inline\n",
    "import numpy as np\n",
    "import pandas as pd\n",
    "import seaborn as sns\n",
    "import matplotlib.pyplot as plt\n",
    "\n",
    "from sklearn.metrics import classification_report, confusion_matrix\n",
    "import tensorflow as tf\n",
    "import numpy as np\n",
    "\n",
    "from tensorflow.keras import layers\n",
    "import time\n",
    "\n",
    "from sklearn.model_selection import train_test_split\n",
    "from sklearn.preprocessing import LabelEncoder\n",
    "from tensorflow.keras.models import Sequential\n",
    "from tensorflow.keras.layers import Dense, LeakyReLU, BatchNormalization\n",
    "from tensorflow.keras.optimizers import Adam"
   ]
  },
  {
   "cell_type": "markdown",
   "id": "13a5f7dd",
   "metadata": {
    "papermill": {
     "duration": 0.022597,
     "end_time": "2024-10-18T12:04:31.496855",
     "exception": false,
     "start_time": "2024-10-18T12:04:31.474258",
     "status": "completed"
    },
    "tags": []
   },
   "source": [
    "**Data Loading**"
   ]
  },
  {
   "cell_type": "code",
   "execution_count": 3,
   "id": "fb173ed7",
   "metadata": {
    "execution": {
     "iopub.execute_input": "2024-10-18T12:04:31.545486Z",
     "iopub.status.busy": "2024-10-18T12:04:31.544129Z",
     "iopub.status.idle": "2024-10-18T12:04:34.196554Z",
     "shell.execute_reply": "2024-10-18T12:04:34.195191Z"
    },
    "papermill": {
     "duration": 2.679909,
     "end_time": "2024-10-18T12:04:34.199658",
     "exception": false,
     "start_time": "2024-10-18T12:04:31.519749",
     "status": "completed"
    },
    "tags": []
   },
   "outputs": [],
   "source": [
    "data_path = '/kaggle/input/kdd-cup-1999-data/kddcup.data_10_percent.gz' #Specifies the path to the dataset.\n",
    "\n",
    "col_names = [\"duration\",\"protocol_type\",\"service\",\"flag\",\"src_bytes\",\"dst_bytes\",\"land\",\"wrong_fragment\",\"urgent\",\"hot\",\"num_failed_logins\",\"logged_in\",\n",
    "             \"num_compromised\",\"root_shell\",\"su_attempted\",\"num_root\",\"num_file_creations\",\"num_shells\",\"num_access_files\",\"num_outbound_cmds\",\n",
    "             \"is_host_login\",\"is_guest_login\",\"count\",\"srv_count\",\"serror_rate\",\"srv_serror_rate\",\"rerror_rate\",\"srv_rerror_rate\",\"same_srv_rate\",\n",
    "             \"diff_srv_rate\",\"srv_diff_host_rate\",\"dst_host_count\",\"dst_host_srv_count\",\"dst_host_same_srv_rate\",\"dst_host_diff_srv_rate\",\n",
    "             \"dst_host_same_src_port_rate\",\"dst_host_srv_diff_host_rate\",\"dst_host_serror_rate\",\"dst_host_srv_serror_rate\",\"dst_host_rerror_rate\",\n",
    "             \"dst_host_srv_rerror_rate\",\"label\"]\n",
    "\n",
    "\n",
    "df = pd.read_csv(data_path,names=col_names, index_col=False) #Reads the dataset from the CSV file into a pandas DataFrame df"
   ]
  },
  {
   "cell_type": "markdown",
   "id": "ec6313c9",
   "metadata": {
    "papermill": {
     "duration": 0.023326,
     "end_time": "2024-10-18T12:04:34.245874",
     "exception": false,
     "start_time": "2024-10-18T12:04:34.222548",
     "status": "completed"
    },
    "tags": []
   },
   "source": [
    "**Explore Data**"
   ]
  },
  {
   "cell_type": "code",
   "execution_count": 4,
   "id": "0e098473",
   "metadata": {
    "execution": {
     "iopub.execute_input": "2024-10-18T12:04:34.294043Z",
     "iopub.status.busy": "2024-10-18T12:04:34.293607Z",
     "iopub.status.idle": "2024-10-18T12:04:34.341813Z",
     "shell.execute_reply": "2024-10-18T12:04:34.340618Z"
    },
    "papermill": {
     "duration": 0.075329,
     "end_time": "2024-10-18T12:04:34.344497",
     "exception": false,
     "start_time": "2024-10-18T12:04:34.269168",
     "status": "completed"
    },
    "tags": []
   },
   "outputs": [
    {
     "data": {
      "text/html": [
       "<div>\n",
       "<style scoped>\n",
       "    .dataframe tbody tr th:only-of-type {\n",
       "        vertical-align: middle;\n",
       "    }\n",
       "\n",
       "    .dataframe tbody tr th {\n",
       "        vertical-align: top;\n",
       "    }\n",
       "\n",
       "    .dataframe thead th {\n",
       "        text-align: right;\n",
       "    }\n",
       "</style>\n",
       "<table border=\"1\" class=\"dataframe\">\n",
       "  <thead>\n",
       "    <tr style=\"text-align: right;\">\n",
       "      <th></th>\n",
       "      <th>duration</th>\n",
       "      <th>protocol_type</th>\n",
       "      <th>service</th>\n",
       "      <th>flag</th>\n",
       "      <th>src_bytes</th>\n",
       "      <th>dst_bytes</th>\n",
       "      <th>land</th>\n",
       "      <th>wrong_fragment</th>\n",
       "      <th>urgent</th>\n",
       "      <th>hot</th>\n",
       "      <th>...</th>\n",
       "      <th>dst_host_srv_count</th>\n",
       "      <th>dst_host_same_srv_rate</th>\n",
       "      <th>dst_host_diff_srv_rate</th>\n",
       "      <th>dst_host_same_src_port_rate</th>\n",
       "      <th>dst_host_srv_diff_host_rate</th>\n",
       "      <th>dst_host_serror_rate</th>\n",
       "      <th>dst_host_srv_serror_rate</th>\n",
       "      <th>dst_host_rerror_rate</th>\n",
       "      <th>dst_host_srv_rerror_rate</th>\n",
       "      <th>label</th>\n",
       "    </tr>\n",
       "  </thead>\n",
       "  <tbody>\n",
       "    <tr>\n",
       "      <th>0</th>\n",
       "      <td>0</td>\n",
       "      <td>tcp</td>\n",
       "      <td>http</td>\n",
       "      <td>SF</td>\n",
       "      <td>181</td>\n",
       "      <td>5450</td>\n",
       "      <td>0</td>\n",
       "      <td>0</td>\n",
       "      <td>0</td>\n",
       "      <td>0</td>\n",
       "      <td>...</td>\n",
       "      <td>9</td>\n",
       "      <td>1.0</td>\n",
       "      <td>0.0</td>\n",
       "      <td>0.11</td>\n",
       "      <td>0.0</td>\n",
       "      <td>0.0</td>\n",
       "      <td>0.0</td>\n",
       "      <td>0.0</td>\n",
       "      <td>0.0</td>\n",
       "      <td>normal.</td>\n",
       "    </tr>\n",
       "    <tr>\n",
       "      <th>1</th>\n",
       "      <td>0</td>\n",
       "      <td>tcp</td>\n",
       "      <td>http</td>\n",
       "      <td>SF</td>\n",
       "      <td>239</td>\n",
       "      <td>486</td>\n",
       "      <td>0</td>\n",
       "      <td>0</td>\n",
       "      <td>0</td>\n",
       "      <td>0</td>\n",
       "      <td>...</td>\n",
       "      <td>19</td>\n",
       "      <td>1.0</td>\n",
       "      <td>0.0</td>\n",
       "      <td>0.05</td>\n",
       "      <td>0.0</td>\n",
       "      <td>0.0</td>\n",
       "      <td>0.0</td>\n",
       "      <td>0.0</td>\n",
       "      <td>0.0</td>\n",
       "      <td>normal.</td>\n",
       "    </tr>\n",
       "    <tr>\n",
       "      <th>2</th>\n",
       "      <td>0</td>\n",
       "      <td>tcp</td>\n",
       "      <td>http</td>\n",
       "      <td>SF</td>\n",
       "      <td>235</td>\n",
       "      <td>1337</td>\n",
       "      <td>0</td>\n",
       "      <td>0</td>\n",
       "      <td>0</td>\n",
       "      <td>0</td>\n",
       "      <td>...</td>\n",
       "      <td>29</td>\n",
       "      <td>1.0</td>\n",
       "      <td>0.0</td>\n",
       "      <td>0.03</td>\n",
       "      <td>0.0</td>\n",
       "      <td>0.0</td>\n",
       "      <td>0.0</td>\n",
       "      <td>0.0</td>\n",
       "      <td>0.0</td>\n",
       "      <td>normal.</td>\n",
       "    </tr>\n",
       "    <tr>\n",
       "      <th>3</th>\n",
       "      <td>0</td>\n",
       "      <td>tcp</td>\n",
       "      <td>http</td>\n",
       "      <td>SF</td>\n",
       "      <td>219</td>\n",
       "      <td>1337</td>\n",
       "      <td>0</td>\n",
       "      <td>0</td>\n",
       "      <td>0</td>\n",
       "      <td>0</td>\n",
       "      <td>...</td>\n",
       "      <td>39</td>\n",
       "      <td>1.0</td>\n",
       "      <td>0.0</td>\n",
       "      <td>0.03</td>\n",
       "      <td>0.0</td>\n",
       "      <td>0.0</td>\n",
       "      <td>0.0</td>\n",
       "      <td>0.0</td>\n",
       "      <td>0.0</td>\n",
       "      <td>normal.</td>\n",
       "    </tr>\n",
       "    <tr>\n",
       "      <th>4</th>\n",
       "      <td>0</td>\n",
       "      <td>tcp</td>\n",
       "      <td>http</td>\n",
       "      <td>SF</td>\n",
       "      <td>217</td>\n",
       "      <td>2032</td>\n",
       "      <td>0</td>\n",
       "      <td>0</td>\n",
       "      <td>0</td>\n",
       "      <td>0</td>\n",
       "      <td>...</td>\n",
       "      <td>49</td>\n",
       "      <td>1.0</td>\n",
       "      <td>0.0</td>\n",
       "      <td>0.02</td>\n",
       "      <td>0.0</td>\n",
       "      <td>0.0</td>\n",
       "      <td>0.0</td>\n",
       "      <td>0.0</td>\n",
       "      <td>0.0</td>\n",
       "      <td>normal.</td>\n",
       "    </tr>\n",
       "  </tbody>\n",
       "</table>\n",
       "<p>5 rows × 42 columns</p>\n",
       "</div>"
      ],
      "text/plain": [
       "   duration protocol_type service flag  src_bytes  dst_bytes  land  \\\n",
       "0         0           tcp    http   SF        181       5450     0   \n",
       "1         0           tcp    http   SF        239        486     0   \n",
       "2         0           tcp    http   SF        235       1337     0   \n",
       "3         0           tcp    http   SF        219       1337     0   \n",
       "4         0           tcp    http   SF        217       2032     0   \n",
       "\n",
       "   wrong_fragment  urgent  hot  ...  dst_host_srv_count  \\\n",
       "0               0       0    0  ...                   9   \n",
       "1               0       0    0  ...                  19   \n",
       "2               0       0    0  ...                  29   \n",
       "3               0       0    0  ...                  39   \n",
       "4               0       0    0  ...                  49   \n",
       "\n",
       "   dst_host_same_srv_rate  dst_host_diff_srv_rate  \\\n",
       "0                     1.0                     0.0   \n",
       "1                     1.0                     0.0   \n",
       "2                     1.0                     0.0   \n",
       "3                     1.0                     0.0   \n",
       "4                     1.0                     0.0   \n",
       "\n",
       "   dst_host_same_src_port_rate  dst_host_srv_diff_host_rate  \\\n",
       "0                         0.11                          0.0   \n",
       "1                         0.05                          0.0   \n",
       "2                         0.03                          0.0   \n",
       "3                         0.03                          0.0   \n",
       "4                         0.02                          0.0   \n",
       "\n",
       "   dst_host_serror_rate  dst_host_srv_serror_rate  dst_host_rerror_rate  \\\n",
       "0                   0.0                       0.0                   0.0   \n",
       "1                   0.0                       0.0                   0.0   \n",
       "2                   0.0                       0.0                   0.0   \n",
       "3                   0.0                       0.0                   0.0   \n",
       "4                   0.0                       0.0                   0.0   \n",
       "\n",
       "   dst_host_srv_rerror_rate    label  \n",
       "0                       0.0  normal.  \n",
       "1                       0.0  normal.  \n",
       "2                       0.0  normal.  \n",
       "3                       0.0  normal.  \n",
       "4                       0.0  normal.  \n",
       "\n",
       "[5 rows x 42 columns]"
      ]
     },
     "execution_count": 4,
     "metadata": {},
     "output_type": "execute_result"
    }
   ],
   "source": [
    "df.head()"
   ]
  },
  {
   "cell_type": "code",
   "execution_count": 5,
   "id": "53538a1f",
   "metadata": {
    "execution": {
     "iopub.execute_input": "2024-10-18T12:04:34.394256Z",
     "iopub.status.busy": "2024-10-18T12:04:34.392749Z",
     "iopub.status.idle": "2024-10-18T12:04:34.401631Z",
     "shell.execute_reply": "2024-10-18T12:04:34.400471Z"
    },
    "papermill": {
     "duration": 0.036269,
     "end_time": "2024-10-18T12:04:34.404258",
     "exception": false,
     "start_time": "2024-10-18T12:04:34.367989",
     "status": "completed"
    },
    "tags": []
   },
   "outputs": [
    {
     "data": {
      "text/plain": [
       "(494021, 42)"
      ]
     },
     "execution_count": 5,
     "metadata": {},
     "output_type": "execute_result"
    }
   ],
   "source": [
    "df.shape"
   ]
  },
  {
   "cell_type": "code",
   "execution_count": 6,
   "id": "3ce6132b",
   "metadata": {
    "execution": {
     "iopub.execute_input": "2024-10-18T12:04:34.454271Z",
     "iopub.status.busy": "2024-10-18T12:04:34.453230Z",
     "iopub.status.idle": "2024-10-18T12:04:34.463484Z",
     "shell.execute_reply": "2024-10-18T12:04:34.462299Z"
    },
    "papermill": {
     "duration": 0.037959,
     "end_time": "2024-10-18T12:04:34.466329",
     "exception": false,
     "start_time": "2024-10-18T12:04:34.428370",
     "status": "completed"
    },
    "tags": []
   },
   "outputs": [
    {
     "data": {
      "text/plain": [
       "duration                         int64\n",
       "protocol_type                   object\n",
       "service                         object\n",
       "flag                            object\n",
       "src_bytes                        int64\n",
       "dst_bytes                        int64\n",
       "land                             int64\n",
       "wrong_fragment                   int64\n",
       "urgent                           int64\n",
       "hot                              int64\n",
       "num_failed_logins                int64\n",
       "logged_in                        int64\n",
       "num_compromised                  int64\n",
       "root_shell                       int64\n",
       "su_attempted                     int64\n",
       "num_root                         int64\n",
       "num_file_creations               int64\n",
       "num_shells                       int64\n",
       "num_access_files                 int64\n",
       "num_outbound_cmds                int64\n",
       "is_host_login                    int64\n",
       "is_guest_login                   int64\n",
       "count                            int64\n",
       "srv_count                        int64\n",
       "serror_rate                    float64\n",
       "srv_serror_rate                float64\n",
       "rerror_rate                    float64\n",
       "srv_rerror_rate                float64\n",
       "same_srv_rate                  float64\n",
       "diff_srv_rate                  float64\n",
       "srv_diff_host_rate             float64\n",
       "dst_host_count                   int64\n",
       "dst_host_srv_count               int64\n",
       "dst_host_same_srv_rate         float64\n",
       "dst_host_diff_srv_rate         float64\n",
       "dst_host_same_src_port_rate    float64\n",
       "dst_host_srv_diff_host_rate    float64\n",
       "dst_host_serror_rate           float64\n",
       "dst_host_srv_serror_rate       float64\n",
       "dst_host_rerror_rate           float64\n",
       "dst_host_srv_rerror_rate       float64\n",
       "label                           object\n",
       "dtype: object"
      ]
     },
     "execution_count": 6,
     "metadata": {},
     "output_type": "execute_result"
    }
   ],
   "source": [
    "df.dtypes"
   ]
  },
  {
   "cell_type": "markdown",
   "id": "9dd83890",
   "metadata": {
    "papermill": {
     "duration": 0.023461,
     "end_time": "2024-10-18T12:04:34.513450",
     "exception": false,
     "start_time": "2024-10-18T12:04:34.489989",
     "status": "completed"
    },
    "tags": []
   },
   "source": [
    "**Data Preprocessing**"
   ]
  },
  {
   "cell_type": "code",
   "execution_count": 7,
   "id": "3a73ea7a",
   "metadata": {
    "execution": {
     "iopub.execute_input": "2024-10-18T12:04:34.566936Z",
     "iopub.status.busy": "2024-10-18T12:04:34.565914Z",
     "iopub.status.idle": "2024-10-18T12:04:34.810821Z",
     "shell.execute_reply": "2024-10-18T12:04:34.809620Z"
    },
    "papermill": {
     "duration": 0.272868,
     "end_time": "2024-10-18T12:04:34.813705",
     "exception": false,
     "start_time": "2024-10-18T12:04:34.540837",
     "status": "completed"
    },
    "tags": []
   },
   "outputs": [
    {
     "data": {
      "text/plain": [
       "duration                       0\n",
       "protocol_type                  0\n",
       "service                        0\n",
       "flag                           0\n",
       "src_bytes                      0\n",
       "dst_bytes                      0\n",
       "land                           0\n",
       "wrong_fragment                 0\n",
       "urgent                         0\n",
       "hot                            0\n",
       "num_failed_logins              0\n",
       "logged_in                      0\n",
       "num_compromised                0\n",
       "root_shell                     0\n",
       "su_attempted                   0\n",
       "num_root                       0\n",
       "num_file_creations             0\n",
       "num_shells                     0\n",
       "num_access_files               0\n",
       "num_outbound_cmds              0\n",
       "is_host_login                  0\n",
       "is_guest_login                 0\n",
       "count                          0\n",
       "srv_count                      0\n",
       "serror_rate                    0\n",
       "srv_serror_rate                0\n",
       "rerror_rate                    0\n",
       "srv_rerror_rate                0\n",
       "same_srv_rate                  0\n",
       "diff_srv_rate                  0\n",
       "srv_diff_host_rate             0\n",
       "dst_host_count                 0\n",
       "dst_host_srv_count             0\n",
       "dst_host_same_srv_rate         0\n",
       "dst_host_diff_srv_rate         0\n",
       "dst_host_same_src_port_rate    0\n",
       "dst_host_srv_diff_host_rate    0\n",
       "dst_host_serror_rate           0\n",
       "dst_host_srv_serror_rate       0\n",
       "dst_host_rerror_rate           0\n",
       "dst_host_srv_rerror_rate       0\n",
       "label                          0\n",
       "dtype: int64"
      ]
     },
     "execution_count": 7,
     "metadata": {},
     "output_type": "execute_result"
    }
   ],
   "source": [
    "df.isnull().sum()"
   ]
  },
  {
   "cell_type": "code",
   "execution_count": 8,
   "id": "f371a461",
   "metadata": {
    "execution": {
     "iopub.execute_input": "2024-10-18T12:04:34.863455Z",
     "iopub.status.busy": "2024-10-18T12:04:34.863004Z",
     "iopub.status.idle": "2024-10-18T12:04:35.433744Z",
     "shell.execute_reply": "2024-10-18T12:04:35.432488Z"
    },
    "papermill": {
     "duration": 0.598752,
     "end_time": "2024-10-18T12:04:35.436486",
     "exception": false,
     "start_time": "2024-10-18T12:04:34.837734",
     "status": "completed"
    },
    "tags": []
   },
   "outputs": [
    {
     "data": {
      "text/html": [
       "<div>\n",
       "<style scoped>\n",
       "    .dataframe tbody tr th:only-of-type {\n",
       "        vertical-align: middle;\n",
       "    }\n",
       "\n",
       "    .dataframe tbody tr th {\n",
       "        vertical-align: top;\n",
       "    }\n",
       "\n",
       "    .dataframe thead th {\n",
       "        text-align: right;\n",
       "    }\n",
       "</style>\n",
       "<table border=\"1\" class=\"dataframe\">\n",
       "  <thead>\n",
       "    <tr style=\"text-align: right;\">\n",
       "      <th></th>\n",
       "      <th>duration</th>\n",
       "      <th>src_bytes</th>\n",
       "      <th>dst_bytes</th>\n",
       "      <th>land</th>\n",
       "      <th>wrong_fragment</th>\n",
       "      <th>urgent</th>\n",
       "      <th>hot</th>\n",
       "      <th>num_failed_logins</th>\n",
       "      <th>logged_in</th>\n",
       "      <th>num_compromised</th>\n",
       "      <th>...</th>\n",
       "      <th>dst_host_count</th>\n",
       "      <th>dst_host_srv_count</th>\n",
       "      <th>dst_host_same_srv_rate</th>\n",
       "      <th>dst_host_diff_srv_rate</th>\n",
       "      <th>dst_host_same_src_port_rate</th>\n",
       "      <th>dst_host_srv_diff_host_rate</th>\n",
       "      <th>dst_host_serror_rate</th>\n",
       "      <th>dst_host_srv_serror_rate</th>\n",
       "      <th>dst_host_rerror_rate</th>\n",
       "      <th>dst_host_srv_rerror_rate</th>\n",
       "    </tr>\n",
       "  </thead>\n",
       "  <tbody>\n",
       "    <tr>\n",
       "      <th>count</th>\n",
       "      <td>494021.000000</td>\n",
       "      <td>4.940210e+05</td>\n",
       "      <td>4.940210e+05</td>\n",
       "      <td>494021.000000</td>\n",
       "      <td>494021.000000</td>\n",
       "      <td>494021.000000</td>\n",
       "      <td>494021.000000</td>\n",
       "      <td>494021.000000</td>\n",
       "      <td>494021.000000</td>\n",
       "      <td>494021.000000</td>\n",
       "      <td>...</td>\n",
       "      <td>494021.000000</td>\n",
       "      <td>494021.000000</td>\n",
       "      <td>494021.000000</td>\n",
       "      <td>494021.000000</td>\n",
       "      <td>494021.000000</td>\n",
       "      <td>494021.000000</td>\n",
       "      <td>494021.000000</td>\n",
       "      <td>494021.000000</td>\n",
       "      <td>494021.000000</td>\n",
       "      <td>494021.000000</td>\n",
       "    </tr>\n",
       "    <tr>\n",
       "      <th>mean</th>\n",
       "      <td>47.979302</td>\n",
       "      <td>3.025610e+03</td>\n",
       "      <td>8.685324e+02</td>\n",
       "      <td>0.000045</td>\n",
       "      <td>0.006433</td>\n",
       "      <td>0.000014</td>\n",
       "      <td>0.034519</td>\n",
       "      <td>0.000152</td>\n",
       "      <td>0.148247</td>\n",
       "      <td>0.010212</td>\n",
       "      <td>...</td>\n",
       "      <td>232.470778</td>\n",
       "      <td>188.665670</td>\n",
       "      <td>0.753780</td>\n",
       "      <td>0.030906</td>\n",
       "      <td>0.601935</td>\n",
       "      <td>0.006684</td>\n",
       "      <td>0.176754</td>\n",
       "      <td>0.176443</td>\n",
       "      <td>0.058118</td>\n",
       "      <td>0.057412</td>\n",
       "    </tr>\n",
       "    <tr>\n",
       "      <th>std</th>\n",
       "      <td>707.746472</td>\n",
       "      <td>9.882181e+05</td>\n",
       "      <td>3.304000e+04</td>\n",
       "      <td>0.006673</td>\n",
       "      <td>0.134805</td>\n",
       "      <td>0.005510</td>\n",
       "      <td>0.782103</td>\n",
       "      <td>0.015520</td>\n",
       "      <td>0.355345</td>\n",
       "      <td>1.798326</td>\n",
       "      <td>...</td>\n",
       "      <td>64.745380</td>\n",
       "      <td>106.040437</td>\n",
       "      <td>0.410781</td>\n",
       "      <td>0.109259</td>\n",
       "      <td>0.481309</td>\n",
       "      <td>0.042133</td>\n",
       "      <td>0.380593</td>\n",
       "      <td>0.380919</td>\n",
       "      <td>0.230590</td>\n",
       "      <td>0.230140</td>\n",
       "    </tr>\n",
       "    <tr>\n",
       "      <th>min</th>\n",
       "      <td>0.000000</td>\n",
       "      <td>0.000000e+00</td>\n",
       "      <td>0.000000e+00</td>\n",
       "      <td>0.000000</td>\n",
       "      <td>0.000000</td>\n",
       "      <td>0.000000</td>\n",
       "      <td>0.000000</td>\n",
       "      <td>0.000000</td>\n",
       "      <td>0.000000</td>\n",
       "      <td>0.000000</td>\n",
       "      <td>...</td>\n",
       "      <td>0.000000</td>\n",
       "      <td>0.000000</td>\n",
       "      <td>0.000000</td>\n",
       "      <td>0.000000</td>\n",
       "      <td>0.000000</td>\n",
       "      <td>0.000000</td>\n",
       "      <td>0.000000</td>\n",
       "      <td>0.000000</td>\n",
       "      <td>0.000000</td>\n",
       "      <td>0.000000</td>\n",
       "    </tr>\n",
       "    <tr>\n",
       "      <th>25%</th>\n",
       "      <td>0.000000</td>\n",
       "      <td>4.500000e+01</td>\n",
       "      <td>0.000000e+00</td>\n",
       "      <td>0.000000</td>\n",
       "      <td>0.000000</td>\n",
       "      <td>0.000000</td>\n",
       "      <td>0.000000</td>\n",
       "      <td>0.000000</td>\n",
       "      <td>0.000000</td>\n",
       "      <td>0.000000</td>\n",
       "      <td>...</td>\n",
       "      <td>255.000000</td>\n",
       "      <td>46.000000</td>\n",
       "      <td>0.410000</td>\n",
       "      <td>0.000000</td>\n",
       "      <td>0.000000</td>\n",
       "      <td>0.000000</td>\n",
       "      <td>0.000000</td>\n",
       "      <td>0.000000</td>\n",
       "      <td>0.000000</td>\n",
       "      <td>0.000000</td>\n",
       "    </tr>\n",
       "    <tr>\n",
       "      <th>50%</th>\n",
       "      <td>0.000000</td>\n",
       "      <td>5.200000e+02</td>\n",
       "      <td>0.000000e+00</td>\n",
       "      <td>0.000000</td>\n",
       "      <td>0.000000</td>\n",
       "      <td>0.000000</td>\n",
       "      <td>0.000000</td>\n",
       "      <td>0.000000</td>\n",
       "      <td>0.000000</td>\n",
       "      <td>0.000000</td>\n",
       "      <td>...</td>\n",
       "      <td>255.000000</td>\n",
       "      <td>255.000000</td>\n",
       "      <td>1.000000</td>\n",
       "      <td>0.000000</td>\n",
       "      <td>1.000000</td>\n",
       "      <td>0.000000</td>\n",
       "      <td>0.000000</td>\n",
       "      <td>0.000000</td>\n",
       "      <td>0.000000</td>\n",
       "      <td>0.000000</td>\n",
       "    </tr>\n",
       "    <tr>\n",
       "      <th>75%</th>\n",
       "      <td>0.000000</td>\n",
       "      <td>1.032000e+03</td>\n",
       "      <td>0.000000e+00</td>\n",
       "      <td>0.000000</td>\n",
       "      <td>0.000000</td>\n",
       "      <td>0.000000</td>\n",
       "      <td>0.000000</td>\n",
       "      <td>0.000000</td>\n",
       "      <td>0.000000</td>\n",
       "      <td>0.000000</td>\n",
       "      <td>...</td>\n",
       "      <td>255.000000</td>\n",
       "      <td>255.000000</td>\n",
       "      <td>1.000000</td>\n",
       "      <td>0.040000</td>\n",
       "      <td>1.000000</td>\n",
       "      <td>0.000000</td>\n",
       "      <td>0.000000</td>\n",
       "      <td>0.000000</td>\n",
       "      <td>0.000000</td>\n",
       "      <td>0.000000</td>\n",
       "    </tr>\n",
       "    <tr>\n",
       "      <th>max</th>\n",
       "      <td>58329.000000</td>\n",
       "      <td>6.933756e+08</td>\n",
       "      <td>5.155468e+06</td>\n",
       "      <td>1.000000</td>\n",
       "      <td>3.000000</td>\n",
       "      <td>3.000000</td>\n",
       "      <td>30.000000</td>\n",
       "      <td>5.000000</td>\n",
       "      <td>1.000000</td>\n",
       "      <td>884.000000</td>\n",
       "      <td>...</td>\n",
       "      <td>255.000000</td>\n",
       "      <td>255.000000</td>\n",
       "      <td>1.000000</td>\n",
       "      <td>1.000000</td>\n",
       "      <td>1.000000</td>\n",
       "      <td>1.000000</td>\n",
       "      <td>1.000000</td>\n",
       "      <td>1.000000</td>\n",
       "      <td>1.000000</td>\n",
       "      <td>1.000000</td>\n",
       "    </tr>\n",
       "  </tbody>\n",
       "</table>\n",
       "<p>8 rows × 38 columns</p>\n",
       "</div>"
      ],
      "text/plain": [
       "            duration     src_bytes     dst_bytes           land  \\\n",
       "count  494021.000000  4.940210e+05  4.940210e+05  494021.000000   \n",
       "mean       47.979302  3.025610e+03  8.685324e+02       0.000045   \n",
       "std       707.746472  9.882181e+05  3.304000e+04       0.006673   \n",
       "min         0.000000  0.000000e+00  0.000000e+00       0.000000   \n",
       "25%         0.000000  4.500000e+01  0.000000e+00       0.000000   \n",
       "50%         0.000000  5.200000e+02  0.000000e+00       0.000000   \n",
       "75%         0.000000  1.032000e+03  0.000000e+00       0.000000   \n",
       "max     58329.000000  6.933756e+08  5.155468e+06       1.000000   \n",
       "\n",
       "       wrong_fragment         urgent            hot  num_failed_logins  \\\n",
       "count   494021.000000  494021.000000  494021.000000      494021.000000   \n",
       "mean         0.006433       0.000014       0.034519           0.000152   \n",
       "std          0.134805       0.005510       0.782103           0.015520   \n",
       "min          0.000000       0.000000       0.000000           0.000000   \n",
       "25%          0.000000       0.000000       0.000000           0.000000   \n",
       "50%          0.000000       0.000000       0.000000           0.000000   \n",
       "75%          0.000000       0.000000       0.000000           0.000000   \n",
       "max          3.000000       3.000000      30.000000           5.000000   \n",
       "\n",
       "           logged_in  num_compromised  ...  dst_host_count  \\\n",
       "count  494021.000000    494021.000000  ...   494021.000000   \n",
       "mean        0.148247         0.010212  ...      232.470778   \n",
       "std         0.355345         1.798326  ...       64.745380   \n",
       "min         0.000000         0.000000  ...        0.000000   \n",
       "25%         0.000000         0.000000  ...      255.000000   \n",
       "50%         0.000000         0.000000  ...      255.000000   \n",
       "75%         0.000000         0.000000  ...      255.000000   \n",
       "max         1.000000       884.000000  ...      255.000000   \n",
       "\n",
       "       dst_host_srv_count  dst_host_same_srv_rate  dst_host_diff_srv_rate  \\\n",
       "count       494021.000000           494021.000000           494021.000000   \n",
       "mean           188.665670                0.753780                0.030906   \n",
       "std            106.040437                0.410781                0.109259   \n",
       "min              0.000000                0.000000                0.000000   \n",
       "25%             46.000000                0.410000                0.000000   \n",
       "50%            255.000000                1.000000                0.000000   \n",
       "75%            255.000000                1.000000                0.040000   \n",
       "max            255.000000                1.000000                1.000000   \n",
       "\n",
       "       dst_host_same_src_port_rate  dst_host_srv_diff_host_rate  \\\n",
       "count                494021.000000                494021.000000   \n",
       "mean                      0.601935                     0.006684   \n",
       "std                       0.481309                     0.042133   \n",
       "min                       0.000000                     0.000000   \n",
       "25%                       0.000000                     0.000000   \n",
       "50%                       1.000000                     0.000000   \n",
       "75%                       1.000000                     0.000000   \n",
       "max                       1.000000                     1.000000   \n",
       "\n",
       "       dst_host_serror_rate  dst_host_srv_serror_rate  dst_host_rerror_rate  \\\n",
       "count         494021.000000             494021.000000         494021.000000   \n",
       "mean               0.176754                  0.176443              0.058118   \n",
       "std                0.380593                  0.380919              0.230590   \n",
       "min                0.000000                  0.000000              0.000000   \n",
       "25%                0.000000                  0.000000              0.000000   \n",
       "50%                0.000000                  0.000000              0.000000   \n",
       "75%                0.000000                  0.000000              0.000000   \n",
       "max                1.000000                  1.000000              1.000000   \n",
       "\n",
       "       dst_host_srv_rerror_rate  \n",
       "count             494021.000000  \n",
       "mean                   0.057412  \n",
       "std                    0.230140  \n",
       "min                    0.000000  \n",
       "25%                    0.000000  \n",
       "50%                    0.000000  \n",
       "75%                    0.000000  \n",
       "max                    1.000000  \n",
       "\n",
       "[8 rows x 38 columns]"
      ]
     },
     "execution_count": 8,
     "metadata": {},
     "output_type": "execute_result"
    }
   ],
   "source": [
    "df.describe()"
   ]
  },
  {
   "cell_type": "markdown",
   "id": "26826f90",
   "metadata": {
    "papermill": {
     "duration": 0.024272,
     "end_time": "2024-10-18T12:04:35.485560",
     "exception": false,
     "start_time": "2024-10-18T12:04:35.461288",
     "status": "completed"
    },
    "tags": []
   },
   "source": [
    "**Find Categorical Columns**"
   ]
  },
  {
   "cell_type": "code",
   "execution_count": 9,
   "id": "0f57e70a",
   "metadata": {
    "execution": {
     "iopub.execute_input": "2024-10-18T12:04:35.537714Z",
     "iopub.status.busy": "2024-10-18T12:04:35.536644Z",
     "iopub.status.idle": "2024-10-18T12:04:35.545992Z",
     "shell.execute_reply": "2024-10-18T12:04:35.544754Z"
    },
    "papermill": {
     "duration": 0.038248,
     "end_time": "2024-10-18T12:04:35.548553",
     "exception": false,
     "start_time": "2024-10-18T12:04:35.510305",
     "status": "completed"
    },
    "tags": []
   },
   "outputs": [
    {
     "data": {
      "text/plain": [
       "['flag', 'service', 'protocol_type']"
      ]
     },
     "execution_count": 9,
     "metadata": {},
     "output_type": "execute_result"
    }
   ],
   "source": [
    "num_cols = df._get_numeric_data().columns\n",
    "\n",
    "cate_cols = list(set(df.columns)-set(num_cols))\n",
    "cate_cols.remove('label')\n",
    "\n",
    "\n",
    "cate_cols"
   ]
  },
  {
   "cell_type": "markdown",
   "id": "90d9de54",
   "metadata": {
    "papermill": {
     "duration": 0.02442,
     "end_time": "2024-10-18T12:04:35.597642",
     "exception": false,
     "start_time": "2024-10-18T12:04:35.573222",
     "status": "completed"
    },
    "tags": []
   },
   "source": [
    "**Categorical Features Distribution**"
   ]
  },
  {
   "cell_type": "code",
   "execution_count": 10,
   "id": "178060d9",
   "metadata": {
    "execution": {
     "iopub.execute_input": "2024-10-18T12:04:35.649639Z",
     "iopub.status.busy": "2024-10-18T12:04:35.649128Z",
     "iopub.status.idle": "2024-10-18T12:04:35.655944Z",
     "shell.execute_reply": "2024-10-18T12:04:35.654503Z"
    },
    "papermill": {
     "duration": 0.036289,
     "end_time": "2024-10-18T12:04:35.658571",
     "exception": false,
     "start_time": "2024-10-18T12:04:35.622282",
     "status": "completed"
    },
    "tags": []
   },
   "outputs": [],
   "source": [
    "#Visualization\n",
    "def bar_graph(feature):\n",
    "    df[feature].value_counts().plot(kind=\"bar\")"
   ]
  },
  {
   "cell_type": "code",
   "execution_count": 11,
   "id": "577e7452",
   "metadata": {
    "execution": {
     "iopub.execute_input": "2024-10-18T12:04:35.714580Z",
     "iopub.status.busy": "2024-10-18T12:04:35.714091Z",
     "iopub.status.idle": "2024-10-18T12:04:36.049012Z",
     "shell.execute_reply": "2024-10-18T12:04:36.047741Z"
    },
    "papermill": {
     "duration": 0.366428,
     "end_time": "2024-10-18T12:04:36.051943",
     "exception": false,
     "start_time": "2024-10-18T12:04:35.685515",
     "status": "completed"
    },
    "tags": []
   },
   "outputs": [
    {
     "data": {
      "image/png": "[encoded data removed]",
      "text/plain": [
       "<Figure size 640x480 with 1 Axes>"
      ]
     },
     "metadata": {},
     "output_type": "display_data"
    }
   ],
   "source": [
    "bar_graph('protocol_type')"
   ]
  },
  {
   "cell_type": "markdown",
   "id": "348c121e",
   "metadata": {
    "papermill": {
     "duration": 0.024853,
     "end_time": "2024-10-18T12:04:36.102171",
     "exception": false,
     "start_time": "2024-10-18T12:04:36.077318",
     "status": "completed"
    },
    "tags": []
   },
   "source": [
    "ICMP is the most present in the used data, then TCP and almost 20000 packets of UDP type"
   ]
  },
  {
   "cell_type": "code",
   "execution_count": 12,
   "id": "1e755fbb",
   "metadata": {
    "execution": {
     "iopub.execute_input": "2024-10-18T12:04:36.155848Z",
     "iopub.status.busy": "2024-10-18T12:04:36.155362Z",
     "iopub.status.idle": "2024-10-18T12:04:37.088601Z",
     "shell.execute_reply": "2024-10-18T12:04:37.087338Z"
    },
    "papermill": {
     "duration": 0.962633,
     "end_time": "2024-10-18T12:04:37.091328",
     "exception": false,
     "start_time": "2024-10-18T12:04:36.128695",
     "status": "completed"
    },
    "tags": []
   },
   "outputs": [
    {
     "data": {
      "image/png": "[encoded data removed]",
      "text/plain": [
       "<Figure size 1500x300 with 1 Axes>"
      ]
     },
     "metadata": {},
     "output_type": "display_data"
    }
   ],
   "source": [
    "plt.figure(figsize=(15,3))\n",
    "bar_graph('service')"
   ]
  },
  {
   "cell_type": "code",
   "execution_count": 13,
   "id": "cceaca82",
   "metadata": {
    "execution": {
     "iopub.execute_input": "2024-10-18T12:04:37.148332Z",
     "iopub.status.busy": "2024-10-18T12:04:37.147849Z",
     "iopub.status.idle": "2024-10-18T12:04:37.566938Z",
     "shell.execute_reply": "2024-10-18T12:04:37.565604Z"
    },
    "papermill": {
     "duration": 0.449936,
     "end_time": "2024-10-18T12:04:37.569838",
     "exception": false,
     "start_time": "2024-10-18T12:04:37.119902",
     "status": "completed"
    },
    "tags": []
   },
   "outputs": [
    {
     "data": {
      "image/png": "[encoded data removed]",
      "text/plain": [
       "<Figure size 640x480 with 1 Axes>"
      ]
     },
     "metadata": {},
     "output_type": "display_data"
    }
   ],
   "source": [
    "bar_graph('flag')"
   ]
  },
  {
   "cell_type": "code",
   "execution_count": 14,
   "id": "e5949b85",
   "metadata": {
    "execution": {
     "iopub.execute_input": "2024-10-18T12:04:37.625439Z",
     "iopub.status.busy": "2024-10-18T12:04:37.624993Z",
     "iopub.status.idle": "2024-10-18T12:04:37.897816Z",
     "shell.execute_reply": "2024-10-18T12:04:37.896422Z"
    },
    "papermill": {
     "duration": 0.30403,
     "end_time": "2024-10-18T12:04:37.900631",
     "exception": false,
     "start_time": "2024-10-18T12:04:37.596601",
     "status": "completed"
    },
    "tags": []
   },
   "outputs": [
    {
     "data": {
      "image/png": "[encoded data removed]",
      "text/plain": [
       "<Figure size 640x480 with 1 Axes>"
      ]
     },
     "metadata": {},
     "output_type": "display_data"
    }
   ],
   "source": [
    "bar_graph('logged_in')"
   ]
  },
  {
   "cell_type": "markdown",
   "id": "90359b75",
   "metadata": {
    "papermill": {
     "duration": 0.026581,
     "end_time": "2024-10-18T12:04:37.954425",
     "exception": false,
     "start_time": "2024-10-18T12:04:37.927844",
     "status": "completed"
    },
    "tags": []
   },
   "source": [
    "70000 packets are successfully logged in."
   ]
  },
  {
   "cell_type": "markdown",
   "id": "4cecf4f7",
   "metadata": {
    "papermill": {
     "duration": 0.030071,
     "end_time": "2024-10-18T12:04:38.012065",
     "exception": false,
     "start_time": "2024-10-18T12:04:37.981994",
     "status": "completed"
    },
    "tags": []
   },
   "source": [
    "**Target Feature Distribution**"
   ]
  },
  {
   "cell_type": "code",
   "execution_count": 15,
   "id": "a8298138",
   "metadata": {
    "execution": {
     "iopub.execute_input": "2024-10-18T12:04:38.068594Z",
     "iopub.status.busy": "2024-10-18T12:04:38.068030Z",
     "iopub.status.idle": "2024-10-18T12:04:38.621843Z",
     "shell.execute_reply": "2024-10-18T12:04:38.620351Z"
    },
    "papermill": {
     "duration": 0.585785,
     "end_time": "2024-10-18T12:04:38.624793",
     "exception": false,
     "start_time": "2024-10-18T12:04:38.039008",
     "status": "completed"
    },
    "tags": []
   },
   "outputs": [
    {
     "data": {
      "image/png": "[encoded data removed]",
      "text/plain": [
       "<Figure size 640x480 with 1 Axes>"
      ]
     },
     "metadata": {},
     "output_type": "display_data"
    }
   ],
   "source": [
    "bar_graph('label')"
   ]
  },
  {
   "cell_type": "markdown",
   "id": "071d1f69",
   "metadata": {
    "papermill": {
     "duration": 0.027383,
     "end_time": "2024-10-18T12:04:38.680060",
     "exception": false,
     "start_time": "2024-10-18T12:04:38.652677",
     "status": "completed"
    },
    "tags": []
   },
   "source": [
    "Imbalanced Dataset: The dataset is heavily imbalanced. Certain attack types, like \"smurf\" and \"neptune,\" dominate the dataset. These two types are represented by the tallest bars and seem to far outnumber other types of attacks and normal instances.\n",
    "\n",
    "Minority Classes: Several attack types (like \"buffer_overflow\", \"teardrop\", \"ipsweep\", etc.) have very few instances. These minority classes might be underrepresented, which could pose challenges during model training as the model may not learn to detect these attacks well.\n",
    "\n",
    "Normal Instances: The number of \"normal\" instances (shown on the left side) is also quite substantial but significantly smaller than the top attack types (e.g., \"smurf\" and \"neptune\")."
   ]
  },
  {
   "cell_type": "markdown",
   "id": "9ffc9dd8",
   "metadata": {
    "papermill": {
     "duration": 0.037631,
     "end_time": "2024-10-18T12:04:38.745235",
     "exception": false,
     "start_time": "2024-10-18T12:04:38.707604",
     "status": "completed"
    },
    "tags": []
   },
   "source": [
    "**Label Encoding Categorical Columns**"
   ]
  },
  {
   "cell_type": "code",
   "execution_count": 16,
   "id": "b5bc82f1",
   "metadata": {
    "execution": {
     "iopub.execute_input": "2024-10-18T12:04:38.829080Z",
     "iopub.status.busy": "2024-10-18T12:04:38.828615Z",
     "iopub.status.idle": "2024-10-18T12:04:38.834181Z",
     "shell.execute_reply": "2024-10-18T12:04:38.832988Z"
    },
    "papermill": {
     "duration": 0.048152,
     "end_time": "2024-10-18T12:04:38.836976",
     "exception": false,
     "start_time": "2024-10-18T12:04:38.788824",
     "status": "completed"
    },
    "tags": []
   },
   "outputs": [],
   "source": [
    "label_enc = LabelEncoder()"
   ]
  },
  {
   "cell_type": "code",
   "execution_count": 17,
   "id": "8d361286",
   "metadata": {
    "execution": {
     "iopub.execute_input": "2024-10-18T12:04:38.894049Z",
     "iopub.status.busy": "2024-10-18T12:04:38.893562Z",
     "iopub.status.idle": "2024-10-18T12:04:39.334732Z",
     "shell.execute_reply": "2024-10-18T12:04:39.333433Z"
    },
    "papermill": {
     "duration": 0.473058,
     "end_time": "2024-10-18T12:04:39.337615",
     "exception": false,
     "start_time": "2024-10-18T12:04:38.864557",
     "status": "completed"
    },
    "tags": []
   },
   "outputs": [],
   "source": [
    "df['protocol_type'] = label_enc.fit_transform(df['protocol_type'])\n",
    "df['service'] = label_enc.fit_transform(df['service'])\n",
    "df['flag'] = label_enc.fit_transform(df['flag'])"
   ]
  },
  {
   "cell_type": "code",
   "execution_count": 18,
   "id": "53b8d4a2",
   "metadata": {
    "execution": {
     "iopub.execute_input": "2024-10-18T12:04:39.395454Z",
     "iopub.status.busy": "2024-10-18T12:04:39.394943Z",
     "iopub.status.idle": "2024-10-18T12:04:39.620966Z",
     "shell.execute_reply": "2024-10-18T12:04:39.619375Z"
    },
    "papermill": {
     "duration": 0.25936,
     "end_time": "2024-10-18T12:04:39.624652",
     "exception": false,
     "start_time": "2024-10-18T12:04:39.365292",
     "status": "completed"
    },
    "tags": []
   },
   "outputs": [
    {
     "data": {
      "text/plain": [
       "array([ 0,  1,  2,  3,  4,  5,  6,  7,  8,  9, 10, 11, 12, 13, 14, 15, 16,\n",
       "       17, 18, 19, 20, 21, 22])"
      ]
     },
     "execution_count": 18,
     "metadata": {},
     "output_type": "execute_result"
    }
   ],
   "source": [
    "#Splitting features and target\n",
    "\n",
    "X = df.drop(['label'], axis=1)  \n",
    "y = label_enc.fit_transform(df['label'])\n",
    "np.unique(y)"
   ]
  },
  {
   "cell_type": "code",
   "execution_count": 19,
   "id": "dee55066",
   "metadata": {
    "execution": {
     "iopub.execute_input": "2024-10-18T12:04:39.688906Z",
     "iopub.status.busy": "2024-10-18T12:04:39.688434Z",
     "iopub.status.idle": "2024-10-18T12:04:39.705586Z",
     "shell.execute_reply": "2024-10-18T12:04:39.704441Z"
    },
    "papermill": {
     "duration": 0.050422,
     "end_time": "2024-10-18T12:04:39.708209",
     "exception": false,
     "start_time": "2024-10-18T12:04:39.657787",
     "status": "completed"
    },
    "tags": []
   },
   "outputs": [
    {
     "data": {
      "text/plain": [
       "array(['back.', 'buffer_overflow.', 'ftp_write.', 'guess_passwd.',\n",
       "       'imap.', 'ipsweep.', 'land.', 'loadmodule.', 'multihop.',\n",
       "       'neptune.', 'nmap.', 'normal.', 'perl.', 'phf.', 'pod.',\n",
       "       'portsweep.', 'rootkit.', 'satan.', 'smurf.', 'spy.', 'teardrop.',\n",
       "       'warezclient.', 'warezmaster.'], dtype=object)"
      ]
     },
     "execution_count": 19,
     "metadata": {},
     "output_type": "execute_result"
    }
   ],
   "source": [
    "label_enc.inverse_transform(np.unique(y))"
   ]
  },
  {
   "cell_type": "code",
   "execution_count": 20,
   "id": "eec4bd17",
   "metadata": {
    "execution": {
     "iopub.execute_input": "2024-10-18T12:04:39.767514Z",
     "iopub.status.busy": "2024-10-18T12:04:39.766543Z",
     "iopub.status.idle": "2024-10-18T12:04:39.773682Z",
     "shell.execute_reply": "2024-10-18T12:04:39.772466Z"
    },
    "papermill": {
     "duration": 0.039731,
     "end_time": "2024-10-18T12:04:39.776356",
     "exception": false,
     "start_time": "2024-10-18T12:04:39.736625",
     "status": "completed"
    },
    "tags": []
   },
   "outputs": [],
   "source": [
    "y_binary = np.where(y == 11, 0, 1)"
   ]
  },
  {
   "cell_type": "code",
   "execution_count": 21,
   "id": "e56f4db0",
   "metadata": {
    "execution": {
     "iopub.execute_input": "2024-10-18T12:04:39.834754Z",
     "iopub.status.busy": "2024-10-18T12:04:39.834240Z",
     "iopub.status.idle": "2024-10-18T12:04:39.853792Z",
     "shell.execute_reply": "2024-10-18T12:04:39.852511Z"
    },
    "papermill": {
     "duration": 0.05192,
     "end_time": "2024-10-18T12:04:39.856623",
     "exception": false,
     "start_time": "2024-10-18T12:04:39.804703",
     "status": "completed"
    },
    "tags": []
   },
   "outputs": [
    {
     "data": {
      "text/plain": [
       "array([0, 1])"
      ]
     },
     "execution_count": 21,
     "metadata": {},
     "output_type": "execute_result"
    }
   ],
   "source": [
    "np.unique(y_binary)"
   ]
  },
  {
   "cell_type": "markdown",
   "id": "e4d50597",
   "metadata": {
    "papermill": {
     "duration": 0.027975,
     "end_time": "2024-10-18T12:04:39.912855",
     "exception": false,
     "start_time": "2024-10-18T12:04:39.884880",
     "status": "completed"
    },
    "tags": []
   },
   "source": [
    "**Feature Selection**"
   ]
  },
  {
   "cell_type": "code",
   "execution_count": 22,
   "id": "9992fe6a",
   "metadata": {
    "execution": {
     "iopub.execute_input": "2024-10-18T12:04:39.971049Z",
     "iopub.status.busy": "2024-10-18T12:04:39.970587Z",
     "iopub.status.idle": "2024-10-18T12:04:43.314019Z",
     "shell.execute_reply": "2024-10-18T12:04:43.312742Z"
    },
    "papermill": {
     "duration": 3.37758,
     "end_time": "2024-10-18T12:04:43.318496",
     "exception": false,
     "start_time": "2024-10-18T12:04:39.940916",
     "status": "completed"
    },
    "tags": []
   },
   "outputs": [
    {
     "data": {
      "image/png": "[encoded data removed]",
      "text/plain": [
       "<Figure size 1200x1000 with 2 Axes>"
      ]
     },
     "metadata": {},
     "output_type": "display_data"
    }
   ],
   "source": [
    "corr_matrix = X.corr()\n",
    "plt.figure(figsize=(12, 10))\n",
    "sns.heatmap(corr_matrix, cmap='coolwarm')\n",
    "plt.show()"
   ]
  },
  {
   "cell_type": "markdown",
   "id": "8f88092a",
   "metadata": {
    "papermill": {
     "duration": 0.030899,
     "end_time": "2024-10-18T12:04:43.383464",
     "exception": false,
     "start_time": "2024-10-18T12:04:43.352565",
     "status": "completed"
    },
    "tags": []
   },
   "source": [
    "Removing highly correlated features (those with values near +1 or -1) and dropping some of them, as they provide redundant information. This can help reduce dimensionality and avoid multicollinearity in the model."
   ]
  },
  {
   "cell_type": "code",
   "execution_count": 23,
   "id": "bc51bd1a",
   "metadata": {
    "execution": {
     "iopub.execute_input": "2024-10-18T12:04:43.448575Z",
     "iopub.status.busy": "2024-10-18T12:04:43.448042Z",
     "iopub.status.idle": "2024-10-18T12:04:43.469711Z",
     "shell.execute_reply": "2024-10-18T12:04:43.468071Z"
    },
    "papermill": {
     "duration": 0.058032,
     "end_time": "2024-10-18T12:04:43.472594",
     "exception": false,
     "start_time": "2024-10-18T12:04:43.414562",
     "status": "completed"
    },
    "tags": []
   },
   "outputs": [
    {
     "data": {
      "text/plain": [
       "0.9938277978737916"
      ]
     },
     "execution_count": 23,
     "metadata": {},
     "output_type": "execute_result"
    }
   ],
   "source": [
    "df['num_root'].corr(df['num_compromised'])"
   ]
  },
  {
   "cell_type": "code",
   "execution_count": 24,
   "id": "5805af84",
   "metadata": {
    "execution": {
     "iopub.execute_input": "2024-10-18T12:04:43.536681Z",
     "iopub.status.busy": "2024-10-18T12:04:43.536191Z",
     "iopub.status.idle": "2024-10-18T12:04:43.553675Z",
     "shell.execute_reply": "2024-10-18T12:04:43.552461Z"
    },
    "papermill": {
     "duration": 0.052867,
     "end_time": "2024-10-18T12:04:43.556407",
     "exception": false,
     "start_time": "2024-10-18T12:04:43.503540",
     "status": "completed"
    },
    "tags": []
   },
   "outputs": [
    {
     "data": {
      "text/plain": [
       "0.998361507272553"
      ]
     },
     "execution_count": 24,
     "metadata": {},
     "output_type": "execute_result"
    }
   ],
   "source": [
    "df['srv_serror_rate'].corr(df['serror_rate'])"
   ]
  },
  {
   "cell_type": "code",
   "execution_count": 25,
   "id": "335eabd4",
   "metadata": {
    "execution": {
     "iopub.execute_input": "2024-10-18T12:04:43.621208Z",
     "iopub.status.busy": "2024-10-18T12:04:43.620736Z",
     "iopub.status.idle": "2024-10-18T12:04:43.639179Z",
     "shell.execute_reply": "2024-10-18T12:04:43.637890Z"
    },
    "papermill": {
     "duration": 0.054532,
     "end_time": "2024-10-18T12:04:43.642224",
     "exception": false,
     "start_time": "2024-10-18T12:04:43.587692",
     "status": "completed"
    },
    "tags": []
   },
   "outputs": [
    {
     "data": {
      "text/plain": [
       "0.9436670688882645"
      ]
     },
     "execution_count": 25,
     "metadata": {},
     "output_type": "execute_result"
    }
   ],
   "source": [
    "df['srv_count'].corr(df['count'])"
   ]
  },
  {
   "cell_type": "code",
   "execution_count": 26,
   "id": "a1c52423",
   "metadata": {
    "execution": {
     "iopub.execute_input": "2024-10-18T12:04:43.706880Z",
     "iopub.status.busy": "2024-10-18T12:04:43.706382Z",
     "iopub.status.idle": "2024-10-18T12:04:43.723100Z",
     "shell.execute_reply": "2024-10-18T12:04:43.721649Z"
    },
    "papermill": {
     "duration": 0.052025,
     "end_time": "2024-10-18T12:04:43.725756",
     "exception": false,
     "start_time": "2024-10-18T12:04:43.673731",
     "status": "completed"
    },
    "tags": []
   },
   "outputs": [
    {
     "data": {
      "text/plain": [
       "0.9947309539818242"
      ]
     },
     "execution_count": 26,
     "metadata": {},
     "output_type": "execute_result"
    }
   ],
   "source": [
    "df['srv_rerror_rate'].corr(df['rerror_rate'])"
   ]
  },
  {
   "cell_type": "code",
   "execution_count": 27,
   "id": "98dfa62c",
   "metadata": {
    "execution": {
     "iopub.execute_input": "2024-10-18T12:04:43.792434Z",
     "iopub.status.busy": "2024-10-18T12:04:43.791981Z",
     "iopub.status.idle": "2024-10-18T12:04:43.808865Z",
     "shell.execute_reply": "2024-10-18T12:04:43.807461Z"
    },
    "papermill": {
     "duration": 0.054133,
     "end_time": "2024-10-18T12:04:43.811909",
     "exception": false,
     "start_time": "2024-10-18T12:04:43.757776",
     "status": "completed"
    },
    "tags": []
   },
   "outputs": [
    {
     "data": {
      "text/plain": [
       "0.9736854572953835"
      ]
     },
     "execution_count": 27,
     "metadata": {},
     "output_type": "execute_result"
    }
   ],
   "source": [
    "df['dst_host_same_srv_rate'].corr(df['dst_host_srv_count'])"
   ]
  },
  {
   "cell_type": "code",
   "execution_count": 28,
   "id": "fc26f87e",
   "metadata": {
    "execution": {
     "iopub.execute_input": "2024-10-18T12:04:43.883110Z",
     "iopub.status.busy": "2024-10-18T12:04:43.882665Z",
     "iopub.status.idle": "2024-10-18T12:04:43.898816Z",
     "shell.execute_reply": "2024-10-18T12:04:43.897568Z"
    },
    "papermill": {
     "duration": 0.055088,
     "end_time": "2024-10-18T12:04:43.901700",
     "exception": false,
     "start_time": "2024-10-18T12:04:43.846612",
     "status": "completed"
    },
    "tags": []
   },
   "outputs": [
    {
     "data": {
      "text/plain": [
       "0.9981559173373293"
      ]
     },
     "execution_count": 28,
     "metadata": {},
     "output_type": "execute_result"
    }
   ],
   "source": [
    "df['dst_host_srv_serror_rate'].corr(df['dst_host_serror_rate'])"
   ]
  },
  {
   "cell_type": "code",
   "execution_count": 29,
   "id": "5fd8eefe",
   "metadata": {
    "execution": {
     "iopub.execute_input": "2024-10-18T12:04:43.967058Z",
     "iopub.status.busy": "2024-10-18T12:04:43.966589Z",
     "iopub.status.idle": "2024-10-18T12:04:43.982247Z",
     "shell.execute_reply": "2024-10-18T12:04:43.980922Z"
    },
    "papermill": {
     "duration": 0.051591,
     "end_time": "2024-10-18T12:04:43.985033",
     "exception": false,
     "start_time": "2024-10-18T12:04:43.933442",
     "status": "completed"
    },
    "tags": []
   },
   "outputs": [
    {
     "data": {
      "text/plain": [
       "0.9848038371110285"
      ]
     },
     "execution_count": 29,
     "metadata": {},
     "output_type": "execute_result"
    }
   ],
   "source": [
    "df['dst_host_srv_rerror_rate'].corr(df['dst_host_rerror_rate'])"
   ]
  },
  {
   "cell_type": "code",
   "execution_count": 30,
   "id": "684649af",
   "metadata": {
    "execution": {
     "iopub.execute_input": "2024-10-18T12:04:44.052789Z",
     "iopub.status.busy": "2024-10-18T12:04:44.051510Z",
     "iopub.status.idle": "2024-10-18T12:04:44.067991Z",
     "shell.execute_reply": "2024-10-18T12:04:44.066493Z"
    },
    "papermill": {
     "duration": 0.053825,
     "end_time": "2024-10-18T12:04:44.070806",
     "exception": false,
     "start_time": "2024-10-18T12:04:44.016981",
     "status": "completed"
    },
    "tags": []
   },
   "outputs": [
    {
     "data": {
      "text/plain": [
       "0.9278080342690969"
      ]
     },
     "execution_count": 30,
     "metadata": {},
     "output_type": "execute_result"
    }
   ],
   "source": [
    "df['dst_host_same_srv_rate'].corr(df['same_srv_rate'])"
   ]
  },
  {
   "cell_type": "code",
   "execution_count": 31,
   "id": "d1f42f5a",
   "metadata": {
    "execution": {
     "iopub.execute_input": "2024-10-18T12:04:44.137433Z",
     "iopub.status.busy": "2024-10-18T12:04:44.136942Z",
     "iopub.status.idle": "2024-10-18T12:04:44.155989Z",
     "shell.execute_reply": "2024-10-18T12:04:44.154776Z"
    },
    "papermill": {
     "duration": 0.056082,
     "end_time": "2024-10-18T12:04:44.158823",
     "exception": false,
     "start_time": "2024-10-18T12:04:44.102741",
     "status": "completed"
    },
    "tags": []
   },
   "outputs": [
    {
     "data": {
      "text/plain": [
       "0.8989546630323716"
      ]
     },
     "execution_count": 31,
     "metadata": {},
     "output_type": "execute_result"
    }
   ],
   "source": [
    "df['dst_host_srv_count'].corr(df['same_srv_rate'])"
   ]
  },
  {
   "cell_type": "code",
   "execution_count": 32,
   "id": "b5eae3ce",
   "metadata": {
    "execution": {
     "iopub.execute_input": "2024-10-18T12:04:44.226002Z",
     "iopub.status.busy": "2024-10-18T12:04:44.225526Z",
     "iopub.status.idle": "2024-10-18T12:04:44.242581Z",
     "shell.execute_reply": "2024-10-18T12:04:44.241202Z"
    },
    "papermill": {
     "duration": 0.054566,
     "end_time": "2024-10-18T12:04:44.245632",
     "exception": false,
     "start_time": "2024-10-18T12:04:44.191066",
     "status": "completed"
    },
    "tags": []
   },
   "outputs": [
    {
     "data": {
      "text/plain": [
       "0.944926367678324"
      ]
     },
     "execution_count": 32,
     "metadata": {},
     "output_type": "execute_result"
    }
   ],
   "source": [
    "df['dst_host_same_src_port_rate'].corr(df['srv_count'])"
   ]
  },
  {
   "cell_type": "code",
   "execution_count": 33,
   "id": "af4d7225",
   "metadata": {
    "execution": {
     "iopub.execute_input": "2024-10-18T12:04:44.312732Z",
     "iopub.status.busy": "2024-10-18T12:04:44.312240Z",
     "iopub.status.idle": "2024-10-18T12:04:44.328099Z",
     "shell.execute_reply": "2024-10-18T12:04:44.326806Z"
    },
    "papermill": {
     "duration": 0.052738,
     "end_time": "2024-10-18T12:04:44.330916",
     "exception": false,
     "start_time": "2024-10-18T12:04:44.278178",
     "status": "completed"
    },
    "tags": []
   },
   "outputs": [
    {
     "data": {
      "text/plain": [
       "0.9986729680104371"
      ]
     },
     "execution_count": 33,
     "metadata": {},
     "output_type": "execute_result"
    }
   ],
   "source": [
    "df['dst_host_serror_rate'].corr(df['serror_rate'])"
   ]
  },
  {
   "cell_type": "code",
   "execution_count": 34,
   "id": "55e3455e",
   "metadata": {
    "execution": {
     "iopub.execute_input": "2024-10-18T12:04:44.400900Z",
     "iopub.status.busy": "2024-10-18T12:04:44.400407Z",
     "iopub.status.idle": "2024-10-18T12:04:44.416681Z",
     "shell.execute_reply": "2024-10-18T12:04:44.415433Z"
    },
    "papermill": {
     "duration": 0.053511,
     "end_time": "2024-10-18T12:04:44.419475",
     "exception": false,
     "start_time": "2024-10-18T12:04:44.365964",
     "status": "completed"
    },
    "tags": []
   },
   "outputs": [
    {
     "data": {
      "text/plain": [
       "0.9978353003739603"
      ]
     },
     "execution_count": 34,
     "metadata": {},
     "output_type": "execute_result"
    }
   ],
   "source": [
    "df['dst_host_serror_rate'].corr(df['srv_serror_rate'])"
   ]
  },
  {
   "cell_type": "code",
   "execution_count": 35,
   "id": "029e2423",
   "metadata": {
    "execution": {
     "iopub.execute_input": "2024-10-18T12:04:44.488019Z",
     "iopub.status.busy": "2024-10-18T12:04:44.487581Z",
     "iopub.status.idle": "2024-10-18T12:04:44.504209Z",
     "shell.execute_reply": "2024-10-18T12:04:44.502917Z"
    },
    "papermill": {
     "duration": 0.053977,
     "end_time": "2024-10-18T12:04:44.507165",
     "exception": false,
     "start_time": "2024-10-18T12:04:44.453188",
     "status": "completed"
    },
    "tags": []
   },
   "outputs": [
    {
     "data": {
      "text/plain": [
       "0.997849248567986"
      ]
     },
     "execution_count": 35,
     "metadata": {},
     "output_type": "execute_result"
    }
   ],
   "source": [
    "df['dst_host_srv_serror_rate'].corr(df['serror_rate'])"
   ]
  },
  {
   "cell_type": "code",
   "execution_count": 36,
   "id": "cf2d7464",
   "metadata": {
    "execution": {
     "iopub.execute_input": "2024-10-18T12:04:44.575200Z",
     "iopub.status.busy": "2024-10-18T12:04:44.574722Z",
     "iopub.status.idle": "2024-10-18T12:04:44.591111Z",
     "shell.execute_reply": "2024-10-18T12:04:44.589883Z"
    },
    "papermill": {
     "duration": 0.054013,
     "end_time": "2024-10-18T12:04:44.593815",
     "exception": false,
     "start_time": "2024-10-18T12:04:44.539802",
     "status": "completed"
    },
    "tags": []
   },
   "outputs": [
    {
     "data": {
      "text/plain": [
       "0.999304109185027"
      ]
     },
     "execution_count": 36,
     "metadata": {},
     "output_type": "execute_result"
    }
   ],
   "source": [
    "df['dst_host_srv_serror_rate'].corr(df['srv_serror_rate'])"
   ]
  },
  {
   "cell_type": "code",
   "execution_count": 37,
   "id": "a6886ad0",
   "metadata": {
    "execution": {
     "iopub.execute_input": "2024-10-18T12:04:44.663064Z",
     "iopub.status.busy": "2024-10-18T12:04:44.662587Z",
     "iopub.status.idle": "2024-10-18T12:04:44.678721Z",
     "shell.execute_reply": "2024-10-18T12:04:44.677348Z"
    },
    "papermill": {
     "duration": 0.054799,
     "end_time": "2024-10-18T12:04:44.681418",
     "exception": false,
     "start_time": "2024-10-18T12:04:44.626619",
     "status": "completed"
    },
    "tags": []
   },
   "outputs": [
    {
     "data": {
      "text/plain": [
       "0.986994792495618"
      ]
     },
     "execution_count": 37,
     "metadata": {},
     "output_type": "execute_result"
    }
   ],
   "source": [
    "df['dst_host_rerror_rate'].corr(df['rerror_rate'])"
   ]
  },
  {
   "cell_type": "code",
   "execution_count": 38,
   "id": "be502934",
   "metadata": {
    "execution": {
     "iopub.execute_input": "2024-10-18T12:04:44.751048Z",
     "iopub.status.busy": "2024-10-18T12:04:44.750566Z",
     "iopub.status.idle": "2024-10-18T12:04:44.766847Z",
     "shell.execute_reply": "2024-10-18T12:04:44.765631Z"
    },
    "papermill": {
     "duration": 0.054513,
     "end_time": "2024-10-18T12:04:44.769501",
     "exception": false,
     "start_time": "2024-10-18T12:04:44.714988",
     "status": "completed"
    },
    "tags": []
   },
   "outputs": [
    {
     "data": {
      "text/plain": [
       "0.9821663427308264"
      ]
     },
     "execution_count": 38,
     "metadata": {},
     "output_type": "execute_result"
    }
   ],
   "source": [
    "df['dst_host_rerror_rate'].corr(df['srv_rerror_rate'])"
   ]
  },
  {
   "cell_type": "code",
   "execution_count": 39,
   "id": "09022790",
   "metadata": {
    "execution": {
     "iopub.execute_input": "2024-10-18T12:04:44.837960Z",
     "iopub.status.busy": "2024-10-18T12:04:44.837490Z",
     "iopub.status.idle": "2024-10-18T12:04:44.853264Z",
     "shell.execute_reply": "2024-10-18T12:04:44.852008Z"
    },
    "papermill": {
     "duration": 0.053139,
     "end_time": "2024-10-18T12:04:44.855989",
     "exception": false,
     "start_time": "2024-10-18T12:04:44.802850",
     "status": "completed"
    },
    "tags": []
   },
   "outputs": [
    {
     "data": {
      "text/plain": [
       "0.9851995540751695"
      ]
     },
     "execution_count": 39,
     "metadata": {},
     "output_type": "execute_result"
    }
   ],
   "source": [
    "df['dst_host_srv_rerror_rate'].corr(df['rerror_rate'])"
   ]
  },
  {
   "cell_type": "code",
   "execution_count": 40,
   "id": "c2c79d6a",
   "metadata": {
    "execution": {
     "iopub.execute_input": "2024-10-18T12:04:44.986342Z",
     "iopub.status.busy": "2024-10-18T12:04:44.985859Z",
     "iopub.status.idle": "2024-10-18T12:04:45.002035Z",
     "shell.execute_reply": "2024-10-18T12:04:45.000647Z"
    },
    "papermill": {
     "duration": 0.055084,
     "end_time": "2024-10-18T12:04:45.004780",
     "exception": false,
     "start_time": "2024-10-18T12:04:44.949696",
     "status": "completed"
    },
    "tags": []
   },
   "outputs": [
    {
     "data": {
      "text/plain": [
       "0.9865705438845764"
      ]
     },
     "execution_count": 40,
     "metadata": {},
     "output_type": "execute_result"
    }
   ],
   "source": [
    "df['dst_host_srv_rerror_rate'].corr(df['srv_rerror_rate'])"
   ]
  },
  {
   "cell_type": "code",
   "execution_count": 41,
   "id": "2cdc8e95",
   "metadata": {
    "execution": {
     "iopub.execute_input": "2024-10-18T12:04:45.074224Z",
     "iopub.status.busy": "2024-10-18T12:04:45.073743Z",
     "iopub.status.idle": "2024-10-18T12:04:45.582464Z",
     "shell.execute_reply": "2024-10-18T12:04:45.581175Z"
    },
    "papermill": {
     "duration": 0.547199,
     "end_time": "2024-10-18T12:04:45.585442",
     "exception": false,
     "start_time": "2024-10-18T12:04:45.038243",
     "status": "completed"
    },
    "tags": []
   },
   "outputs": [],
   "source": [
    "#This variable is highly correlated with num_compromised and should be ignored for analysis.\n",
    "#(Correlation = 0.9938277978738366)\n",
    "df.drop('num_root',axis = 1,inplace = True)\n",
    "\n",
    "#This variable is highly correlated with serror_rate and should be ignored for analysis.\n",
    "#(Correlation = 0.9983615072725952)\n",
    "df.drop('srv_serror_rate',axis = 1,inplace = True)\n",
    "\n",
    "#This variable is highly correlated with rerror_rate and should be ignored for analysis.\n",
    "#(Correlation = 0.9947309539817937)\n",
    "df.drop('srv_rerror_rate',axis = 1, inplace=True)\n",
    "\n",
    "#This variable is highly correlated with srv_serror_rate and should be ignored for analysis.\n",
    "#(Correlation = 0.9993041091850098)\n",
    "df.drop('dst_host_srv_serror_rate',axis = 1, inplace=True)\n",
    "\n",
    "#This variable is highly correlated with rerror_rate and should be ignored for analysis.\n",
    "#(Correlation = 0.9869947924956001)\n",
    "df.drop('dst_host_serror_rate',axis = 1, inplace=True)\n",
    "\n",
    "#This variable is highly correlated with srv_rerror_rate and should be ignored for analysis.\n",
    "#(Correlation = 0.9821663427308375)\n",
    "df.drop('dst_host_rerror_rate',axis = 1, inplace=True)\n",
    "\n",
    "#This variable is highly correlated with rerror_rate and should be ignored for analysis.\n",
    "#(Correlation = 0.9851995540751249)\n",
    "df.drop('dst_host_srv_rerror_rate',axis = 1, inplace=True)\n",
    "\n",
    "#This variable is highly correlated with dst_host_srv_count and should be ignored for analysis.\n",
    "#(Correlation = 0.9736854572953938)\n",
    "df.drop('dst_host_same_srv_rate',axis = 1, inplace=True)\n"
   ]
  },
  {
   "cell_type": "code",
   "execution_count": 42,
   "id": "8d9a153f",
   "metadata": {
    "execution": {
     "iopub.execute_input": "2024-10-18T12:04:45.654913Z",
     "iopub.status.busy": "2024-10-18T12:04:45.653712Z",
     "iopub.status.idle": "2024-10-18T12:04:45.662593Z",
     "shell.execute_reply": "2024-10-18T12:04:45.661349Z"
    },
    "papermill": {
     "duration": 0.046418,
     "end_time": "2024-10-18T12:04:45.665221",
     "exception": false,
     "start_time": "2024-10-18T12:04:45.618803",
     "status": "completed"
    },
    "tags": []
   },
   "outputs": [
    {
     "data": {
      "text/plain": [
       "Index(['duration', 'protocol_type', 'service', 'flag', 'src_bytes',\n",
       "       'dst_bytes', 'land', 'wrong_fragment', 'urgent', 'hot',\n",
       "       'num_failed_logins', 'logged_in', 'num_compromised', 'root_shell',\n",
       "       'su_attempted', 'num_root', 'num_file_creations', 'num_shells',\n",
       "       'num_access_files', 'num_outbound_cmds', 'is_host_login',\n",
       "       'is_guest_login', 'count', 'srv_count', 'serror_rate',\n",
       "       'srv_serror_rate', 'rerror_rate', 'srv_rerror_rate', 'same_srv_rate',\n",
       "       'diff_srv_rate', 'srv_diff_host_rate', 'dst_host_count',\n",
       "       'dst_host_srv_count', 'dst_host_same_srv_rate',\n",
       "       'dst_host_diff_srv_rate', 'dst_host_same_src_port_rate',\n",
       "       'dst_host_srv_diff_host_rate', 'dst_host_serror_rate',\n",
       "       'dst_host_srv_serror_rate', 'dst_host_rerror_rate',\n",
       "       'dst_host_srv_rerror_rate'],\n",
       "      dtype='object')"
      ]
     },
     "execution_count": 42,
     "metadata": {},
     "output_type": "execute_result"
    }
   ],
   "source": [
    "X.columns"
   ]
  },
  {
   "cell_type": "code",
   "execution_count": 43,
   "id": "e93254c8",
   "metadata": {
    "execution": {
     "iopub.execute_input": "2024-10-18T12:04:45.735676Z",
     "iopub.status.busy": "2024-10-18T12:04:45.735157Z",
     "iopub.status.idle": "2024-10-18T12:04:45.743348Z",
     "shell.execute_reply": "2024-10-18T12:04:45.742097Z"
    },
    "papermill": {
     "duration": 0.046383,
     "end_time": "2024-10-18T12:04:45.745876",
     "exception": false,
     "start_time": "2024-10-18T12:04:45.699493",
     "status": "completed"
    },
    "tags": []
   },
   "outputs": [
    {
     "data": {
      "text/plain": [
       "(494021, 41)"
      ]
     },
     "execution_count": 43,
     "metadata": {},
     "output_type": "execute_result"
    }
   ],
   "source": [
    "X.shape"
   ]
  },
  {
   "cell_type": "code",
   "execution_count": 44,
   "id": "30adb82a",
   "metadata": {
    "execution": {
     "iopub.execute_input": "2024-10-18T12:04:45.816087Z",
     "iopub.status.busy": "2024-10-18T12:04:45.815590Z",
     "iopub.status.idle": "2024-10-18T12:04:45.826763Z",
     "shell.execute_reply": "2024-10-18T12:04:45.825429Z"
    },
    "papermill": {
     "duration": 0.049691,
     "end_time": "2024-10-18T12:04:45.829606",
     "exception": false,
     "start_time": "2024-10-18T12:04:45.779915",
     "status": "completed"
    },
    "tags": []
   },
   "outputs": [
    {
     "data": {
      "text/plain": [
       "duration                         int64\n",
       "protocol_type                    int64\n",
       "service                          int64\n",
       "flag                             int64\n",
       "src_bytes                        int64\n",
       "dst_bytes                        int64\n",
       "land                             int64\n",
       "wrong_fragment                   int64\n",
       "urgent                           int64\n",
       "hot                              int64\n",
       "num_failed_logins                int64\n",
       "logged_in                        int64\n",
       "num_compromised                  int64\n",
       "root_shell                       int64\n",
       "su_attempted                     int64\n",
       "num_root                         int64\n",
       "num_file_creations               int64\n",
       "num_shells                       int64\n",
       "num_access_files                 int64\n",
       "num_outbound_cmds                int64\n",
       "is_host_login                    int64\n",
       "is_guest_login                   int64\n",
       "count                            int64\n",
       "srv_count                        int64\n",
       "serror_rate                    float64\n",
       "srv_serror_rate                float64\n",
       "rerror_rate                    float64\n",
       "srv_rerror_rate                float64\n",
       "same_srv_rate                  float64\n",
       "diff_srv_rate                  float64\n",
       "srv_diff_host_rate             float64\n",
       "dst_host_count                   int64\n",
       "dst_host_srv_count               int64\n",
       "dst_host_same_srv_rate         float64\n",
       "dst_host_diff_srv_rate         float64\n",
       "dst_host_same_src_port_rate    float64\n",
       "dst_host_srv_diff_host_rate    float64\n",
       "dst_host_serror_rate           float64\n",
       "dst_host_srv_serror_rate       float64\n",
       "dst_host_rerror_rate           float64\n",
       "dst_host_srv_rerror_rate       float64\n",
       "dtype: object"
      ]
     },
     "execution_count": 44,
     "metadata": {},
     "output_type": "execute_result"
    }
   ],
   "source": [
    "X.dtypes"
   ]
  },
  {
   "cell_type": "code",
   "execution_count": 45,
   "id": "cf997351",
   "metadata": {
    "execution": {
     "iopub.execute_input": "2024-10-18T12:04:45.900042Z",
     "iopub.status.busy": "2024-10-18T12:04:45.899558Z",
     "iopub.status.idle": "2024-10-18T12:04:45.907138Z",
     "shell.execute_reply": "2024-10-18T12:04:45.905920Z"
    },
    "papermill": {
     "duration": 0.046546,
     "end_time": "2024-10-18T12:04:45.910055",
     "exception": false,
     "start_time": "2024-10-18T12:04:45.863509",
     "status": "completed"
    },
    "tags": []
   },
   "outputs": [
    {
     "data": {
      "text/plain": [
       "(494021, 41)"
      ]
     },
     "execution_count": 45,
     "metadata": {},
     "output_type": "execute_result"
    }
   ],
   "source": [
    "X.shape"
   ]
  },
  {
   "cell_type": "code",
   "execution_count": 46,
   "id": "df990eeb",
   "metadata": {
    "execution": {
     "iopub.execute_input": "2024-10-18T12:04:45.981449Z",
     "iopub.status.busy": "2024-10-18T12:04:45.980368Z",
     "iopub.status.idle": "2024-10-18T12:04:46.395164Z",
     "shell.execute_reply": "2024-10-18T12:04:46.393837Z"
    },
    "papermill": {
     "duration": 0.454195,
     "end_time": "2024-10-18T12:04:46.398851",
     "exception": false,
     "start_time": "2024-10-18T12:04:45.944656",
     "status": "completed"
    },
    "tags": []
   },
   "outputs": [
    {
     "name": "stdout",
     "output_type": "stream",
     "text": [
      "Training set size: (1000, 41)\n",
      "Test set size: (493021, 41)\n"
     ]
    }
   ],
   "source": [
    "from sklearn.model_selection import train_test_split\n",
    "\n",
    "# Split data into 80% train and 20% test\n",
    "X_train, X_test, y_train, y_test = train_test_split(X, y_binary,train_size=1000, random_state=42, stratify=y_binary)\n",
    "\n",
    "print(f\"Training set size: {X_train.shape}\")\n",
    "print(f\"Test set size: {X_test.shape}\")"
   ]
  },
  {
   "cell_type": "code",
   "execution_count": 47,
   "id": "e71559fe",
   "metadata": {
    "execution": {
     "iopub.execute_input": "2024-10-18T12:04:46.471689Z",
     "iopub.status.busy": "2024-10-18T12:04:46.470542Z",
     "iopub.status.idle": "2024-10-18T12:04:46.479865Z",
     "shell.execute_reply": "2024-10-18T12:04:46.478663Z"
    },
    "papermill": {
     "duration": 0.048853,
     "end_time": "2024-10-18T12:04:46.482620",
     "exception": false,
     "start_time": "2024-10-18T12:04:46.433767",
     "status": "completed"
    },
    "tags": []
   },
   "outputs": [
    {
     "data": {
      "text/plain": [
       "(1000, 41)"
      ]
     },
     "execution_count": 47,
     "metadata": {},
     "output_type": "execute_result"
    }
   ],
   "source": [
    "# Filter only normal samples for GAN training ( '0' is normal)\n",
    "X_train_normal = X_train[y_train == 0]\n",
    "X_train.shape"
   ]
  },
  {
   "cell_type": "code",
   "execution_count": 48,
   "id": "d07428f2",
   "metadata": {
    "execution": {
     "iopub.execute_input": "2024-10-18T12:04:46.556380Z",
     "iopub.status.busy": "2024-10-18T12:04:46.555932Z",
     "iopub.status.idle": "2024-10-18T12:04:46.563691Z",
     "shell.execute_reply": "2024-10-18T12:04:46.562526Z"
    },
    "papermill": {
     "duration": 0.047521,
     "end_time": "2024-10-18T12:04:46.566206",
     "exception": false,
     "start_time": "2024-10-18T12:04:46.518685",
     "status": "completed"
    },
    "tags": []
   },
   "outputs": [
    {
     "data": {
      "text/plain": [
       "(1000,)"
      ]
     },
     "execution_count": 48,
     "metadata": {},
     "output_type": "execute_result"
    }
   ],
   "source": [
    "y_train.shape"
   ]
  },
  {
   "cell_type": "markdown",
   "id": "77ddfb1c",
   "metadata": {
    "papermill": {
     "duration": 0.034423,
     "end_time": "2024-10-18T12:04:46.635885",
     "exception": false,
     "start_time": "2024-10-18T12:04:46.601462",
     "status": "completed"
    },
    "tags": []
   },
   "source": [
    "**Data Normalisation**"
   ]
  },
  {
   "cell_type": "markdown",
   "id": "372816c5",
   "metadata": {
    "papermill": {
     "duration": 0.034677,
     "end_time": "2024-10-18T12:04:46.705548",
     "exception": false,
     "start_time": "2024-10-18T12:04:46.670871",
     "status": "completed"
    },
    "tags": []
   },
   "source": [
    "Normalization is important when building a GAN, as it helps improve the training stability and performance of both the generator and discriminator. GANs, especially with architectures that use activation functions like tanh in the generator and sigmoid in the discriminator, benefit from normalized data."
   ]
  },
  {
   "cell_type": "code",
   "execution_count": 49,
   "id": "50ee9519",
   "metadata": {
    "execution": {
     "iopub.execute_input": "2024-10-18T12:04:46.777210Z",
     "iopub.status.busy": "2024-10-18T12:04:46.776782Z",
     "iopub.status.idle": "2024-10-18T12:04:46.827360Z",
     "shell.execute_reply": "2024-10-18T12:04:46.825936Z"
    },
    "papermill": {
     "duration": 0.089979,
     "end_time": "2024-10-18T12:04:46.830365",
     "exception": false,
     "start_time": "2024-10-18T12:04:46.740386",
     "status": "completed"
    },
    "tags": []
   },
   "outputs": [],
   "source": [
    "from sklearn.preprocessing import MinMaxScaler\n",
    "\n",
    "scaler = MinMaxScaler(feature_range=(-1, 1))\n",
    "df_normalized = scaler.fit_transform(X_train)  # Normalize all features\n",
    "\n",
    "# Convert to a TensorFlow tensor\n",
    "import tensorflow as tf\n",
    "\n",
    "df_normalized_tensor = tf.convert_to_tensor(df_normalized, dtype=tf.float32)"
   ]
  },
  {
   "cell_type": "code",
   "execution_count": 50,
   "id": "63dba00d",
   "metadata": {
    "execution": {
     "iopub.execute_input": "2024-10-18T12:04:46.902850Z",
     "iopub.status.busy": "2024-10-18T12:04:46.902338Z",
     "iopub.status.idle": "2024-10-18T12:04:46.922100Z",
     "shell.execute_reply": "2024-10-18T12:04:46.920741Z"
    },
    "papermill": {
     "duration": 0.059507,
     "end_time": "2024-10-18T12:04:46.925231",
     "exception": false,
     "start_time": "2024-10-18T12:04:46.865724",
     "status": "completed"
    },
    "tags": []
   },
   "outputs": [],
   "source": [
    "def create_tf_dataset(data, batch_size):\n",
    "    dataset = tf.data.Dataset.from_tensor_slices(data)\n",
    "    dataset = dataset.shuffle(buffer_size=len(data))  # Shuffle the dataset\n",
    "    dataset = dataset.batch(batch_size)  # Create batches\n",
    "    return dataset\n",
    "\n",
    "BATCH_SIZE = 64 # try 64 now\n",
    "tf_dataset = create_tf_dataset(df_normalized_tensor, BATCH_SIZE) "
   ]
  },
  {
   "cell_type": "markdown",
   "id": "2ab0ed7f",
   "metadata": {
    "papermill": {
     "duration": 0.034598,
     "end_time": "2024-10-18T12:04:46.994897",
     "exception": false,
     "start_time": "2024-10-18T12:04:46.960299",
     "status": "completed"
    },
    "tags": []
   },
   "source": [
    "**Build GAN components**"
   ]
  },
  {
   "cell_type": "code",
   "execution_count": 51,
   "id": "53f8e8cb",
   "metadata": {
    "execution": {
     "iopub.execute_input": "2024-10-18T12:04:47.066604Z",
     "iopub.status.busy": "2024-10-18T12:04:47.066093Z",
     "iopub.status.idle": "2024-10-18T12:04:47.198442Z",
     "shell.execute_reply": "2024-10-18T12:04:47.197179Z"
    },
    "papermill": {
     "duration": 0.171779,
     "end_time": "2024-10-18T12:04:47.201635",
     "exception": false,
     "start_time": "2024-10-18T12:04:47.029856",
     "status": "completed"
    },
    "tags": []
   },
   "outputs": [
    {
     "name": "stdout",
     "output_type": "stream",
     "text": [
      "(1, 41)\n"
     ]
    },
    {
     "name": "stderr",
     "output_type": "stream",
     "text": [
      "/opt/conda/lib/python3.10/site-packages/keras/src/layers/core/dense.py:87: UserWarning: Do not pass an `input_shape`/`input_dim` argument to a layer. When using Sequential models, prefer using an `Input(shape)` object as the first layer in the model instead.\n",
      "  super().__init__(activity_regularizer=activity_regularizer, **kwargs)\n"
     ]
    }
   ],
   "source": [
    "def build_generator(noise_dim):\n",
    "    model = tf.keras.Sequential([\n",
    "        tf.keras.layers.Dense(256, activation='relu', input_shape=(100,)),  # Input shape for noise\n",
    "        tf.keras.layers.Dense(512, activation='relu'),\n",
    "        tf.keras.layers.Dense(1024, activation='relu'),\n",
    "        tf.keras.layers.BatchNormalization(),\n",
    "        tf.keras.layers.Dense(41, activation='tanh')  # Output layer for 41 features\n",
    "    ])\n",
    "    return model\n",
    "\n",
    "noise_dim = 100  # Dimension of the noise vector\n",
    "generator = build_generator(noise_dim)\n",
    "\n",
    "# Test the generator\n",
    "# Generate a random noise vector\n",
    "test_noise = tf.random.normal([1, noise_dim])\n",
    "generated_data = generator(test_noise)\n",
    "print(generated_data.shape)"
   ]
  },
  {
   "cell_type": "code",
   "execution_count": 52,
   "id": "23db4449",
   "metadata": {
    "execution": {
     "iopub.execute_input": "2024-10-18T12:04:47.274022Z",
     "iopub.status.busy": "2024-10-18T12:04:47.273534Z",
     "iopub.status.idle": "2024-10-18T12:04:47.332796Z",
     "shell.execute_reply": "2024-10-18T12:04:47.331596Z"
    },
    "papermill": {
     "duration": 0.098545,
     "end_time": "2024-10-18T12:04:47.335716",
     "exception": false,
     "start_time": "2024-10-18T12:04:47.237171",
     "status": "completed"
    },
    "tags": []
   },
   "outputs": [],
   "source": [
    "def build_discriminator():\n",
    "    model = tf.keras.Sequential([\n",
    "        tf.keras.layers.Dense(512, activation='relu', input_shape=(41,)),  # Adjust input shape if needed\n",
    "        tf.keras.layers.BatchNormalization(),\n",
    "        tf.keras.layers.Dense(256, activation='relu'),\n",
    "        tf.keras.layers.BatchNormalization(),\n",
    "        tf.keras.layers.Dense(1) \n",
    "    ])\n",
    "    return model\n",
    "\n",
    "discriminator = build_discriminator()"
   ]
  },
  {
   "cell_type": "code",
   "execution_count": 53,
   "id": "95d684f9",
   "metadata": {
    "execution": {
     "iopub.execute_input": "2024-10-18T12:04:47.409360Z",
     "iopub.status.busy": "2024-10-18T12:04:47.408257Z",
     "iopub.status.idle": "2024-10-18T12:04:47.428124Z",
     "shell.execute_reply": "2024-10-18T12:04:47.426878Z"
    },
    "papermill": {
     "duration": 0.059829,
     "end_time": "2024-10-18T12:04:47.431280",
     "exception": false,
     "start_time": "2024-10-18T12:04:47.371451",
     "status": "completed"
    },
    "tags": []
   },
   "outputs": [],
   "source": [
    "from tensorflow.keras.losses import BinaryCrossentropy\n",
    "cross_entropy = BinaryCrossentropy(from_logits=True) \n",
    "\n",
    "\n",
    "\n",
    "def generator_loss(fake_output):\n",
    "    return -tf.reduce_mean(fake_output) # Wasserstein loss \n",
    "\n",
    "def discriminator_loss(real_output, fake_output):\n",
    "    return tf.reduce_mean(fake_output) - tf.reduce_mean(real_output) \n",
    "\n",
    "# Optimizers\n",
    "generator_optimizer = tf.keras.optimizers.Adam(1e-5) #Adjusted learning rate to improve the model\n",
    "discriminator_optimizer = tf.keras.optimizers.Adam(1e-5)"
   ]
  },
  {
   "cell_type": "code",
   "execution_count": 54,
   "id": "f5f322a4",
   "metadata": {
    "execution": {
     "iopub.execute_input": "2024-10-18T12:04:47.503384Z",
     "iopub.status.busy": "2024-10-18T12:04:47.502884Z",
     "iopub.status.idle": "2024-10-18T12:04:47.512685Z",
     "shell.execute_reply": "2024-10-18T12:04:47.511463Z"
    },
    "papermill": {
     "duration": 0.048927,
     "end_time": "2024-10-18T12:04:47.515295",
     "exception": false,
     "start_time": "2024-10-18T12:04:47.466368",
     "status": "completed"
    },
    "tags": []
   },
   "outputs": [],
   "source": [
    "@tf.function\n",
    "def train_step(real_images):\n",
    "    noise = tf.random.normal([BATCH_SIZE, noise_dim])  # Create noise\n",
    "\n",
    "    with tf.GradientTape() as gen_tape, tf.GradientTape() as disc_tape:\n",
    "        generated_images = generator(noise, training=True)\n",
    "\n",
    "        real_output = discriminator(real_images, training=True)\n",
    "        fake_output = discriminator(generated_images, training=True)\n",
    "\n",
    "        gen_loss = generator_loss(fake_output)\n",
    "        disc_loss = discriminator_loss(real_output, fake_output)\n",
    "\n",
    "    gradients_of_generator = gen_tape.gradient(gen_loss, generator.trainable_variables)\n",
    "    gradients_of_discriminator = disc_tape.gradient(disc_loss, discriminator.trainable_variables)\n",
    "\n",
    "    generator_optimizer.apply_gradients(zip(gradients_of_generator, generator.trainable_variables))\n",
    "    discriminator_optimizer.apply_gradients(zip(gradients_of_discriminator, discriminator.trainable_variables))\n",
    "\n",
    "    return gen_loss, disc_loss"
   ]
  },
  {
   "cell_type": "markdown",
   "id": "0663d96a",
   "metadata": {
    "papermill": {
     "duration": 0.04192,
     "end_time": "2024-10-18T12:04:47.592023",
     "exception": false,
     "start_time": "2024-10-18T12:04:47.550103",
     "status": "completed"
    },
    "tags": []
   },
   "source": [
    "**Train the Model**"
   ]
  },
  {
   "cell_type": "code",
   "execution_count": 55,
   "id": "1921cf84",
   "metadata": {
    "execution": {
     "iopub.execute_input": "2024-10-18T12:04:47.675917Z",
     "iopub.status.busy": "2024-10-18T12:04:47.675293Z",
     "iopub.status.idle": "2024-10-18T12:04:47.685137Z",
     "shell.execute_reply": "2024-10-18T12:04:47.683792Z"
    },
    "papermill": {
     "duration": 0.053051,
     "end_time": "2024-10-18T12:04:47.688002",
     "exception": false,
     "start_time": "2024-10-18T12:04:47.634951",
     "status": "completed"
    },
    "tags": []
   },
   "outputs": [],
   "source": [
    "history = {'gen': [], 'dis': []}\n",
    "\n",
    "def train(dataset, epochs):\n",
    "    for epoch in range(epochs):\n",
    "        start = time.time()\n",
    "\n",
    "        for batch in dataset:\n",
    "            gen_loss, dis_loss = train_step(batch)\n",
    "\n",
    "        history['gen'].append(gen_loss)\n",
    "        history['dis'].append(dis_loss)\n",
    "        print('Time for epoch {} is {} sec '.format(epoch + 1, time.time() - start))"
   ]
  },
  {
   "cell_type": "code",
   "execution_count": 56,
   "id": "b41313db",
   "metadata": {
    "execution": {
     "iopub.execute_input": "2024-10-18T12:04:47.768665Z",
     "iopub.status.busy": "2024-10-18T12:04:47.767740Z",
     "iopub.status.idle": "2024-10-18T12:08:41.449897Z",
     "shell.execute_reply": "2024-10-18T12:08:41.448456Z"
    },
    "papermill": {
     "duration": 233.724275,
     "end_time": "2024-10-18T12:08:41.453295",
     "exception": false,
     "start_time": "2024-10-18T12:04:47.729020",
     "status": "completed"
    },
    "tags": []
   },
   "outputs": [
    {
     "name": "stdout",
     "output_type": "stream",
     "text": [
      "Time for epoch 1 is 6.349698781967163 sec \n",
      "Time for epoch 2 is 0.22527050971984863 sec \n",
      "Time for epoch 3 is 0.21718597412109375 sec \n",
      "Time for epoch 4 is 0.21807575225830078 sec \n",
      "Time for epoch 5 is 0.21937966346740723 sec \n",
      "Time for epoch 6 is 0.2213740348815918 sec \n",
      "Time for epoch 7 is 0.22876214981079102 sec \n",
      "Time for epoch 8 is 0.22234582901000977 sec \n",
      "Time for epoch 9 is 0.22219491004943848 sec \n",
      "Time for epoch 10 is 0.21970248222351074 sec \n",
      "Time for epoch 11 is 0.23113083839416504 sec \n",
      "Time for epoch 12 is 0.22524261474609375 sec \n",
      "Time for epoch 13 is 0.22211861610412598 sec \n",
      "Time for epoch 14 is 0.22424793243408203 sec \n",
      "Time for epoch 15 is 0.22525668144226074 sec \n",
      "Time for epoch 16 is 0.2245321273803711 sec \n",
      "Time for epoch 17 is 0.22208833694458008 sec \n",
      "Time for epoch 18 is 0.21729540824890137 sec \n",
      "Time for epoch 19 is 0.2314925193786621 sec \n",
      "Time for epoch 20 is 0.2614631652832031 sec \n",
      "Time for epoch 21 is 0.22145318984985352 sec \n",
      "Time for epoch 22 is 0.2193307876586914 sec \n",
      "Time for epoch 23 is 0.22271299362182617 sec \n",
      "Time for epoch 24 is 0.22404146194458008 sec \n",
      "Time for epoch 25 is 0.22332000732421875 sec \n",
      "Time for epoch 26 is 0.2212519645690918 sec \n",
      "Time for epoch 27 is 0.2227342128753662 sec \n",
      "Time for epoch 28 is 0.22151637077331543 sec \n",
      "Time for epoch 29 is 0.2304699420928955 sec \n",
      "Time for epoch 30 is 0.2209794521331787 sec \n",
      "Time for epoch 31 is 0.2168102264404297 sec \n",
      "Time for epoch 32 is 0.21864533424377441 sec \n",
      "Time for epoch 33 is 0.225724458694458 sec \n",
      "Time for epoch 34 is 0.2256608009338379 sec \n",
      "Time for epoch 35 is 0.22046589851379395 sec \n",
      "Time for epoch 36 is 0.2213141918182373 sec \n",
      "Time for epoch 37 is 0.21687579154968262 sec \n",
      "Time for epoch 38 is 0.22916746139526367 sec \n",
      "Time for epoch 39 is 0.2234964370727539 sec \n",
      "Time for epoch 40 is 0.22055530548095703 sec \n",
      "Time for epoch 41 is 0.22223830223083496 sec \n",
      "Time for epoch 42 is 0.2256011962890625 sec \n",
      "Time for epoch 43 is 0.22107434272766113 sec \n",
      "Time for epoch 44 is 0.22257137298583984 sec \n",
      "Time for epoch 45 is 0.22488999366760254 sec \n",
      "Time for epoch 46 is 0.22248291969299316 sec \n",
      "Time for epoch 47 is 0.23680591583251953 sec \n",
      "Time for epoch 48 is 0.23090076446533203 sec \n",
      "Time for epoch 49 is 0.22490215301513672 sec \n",
      "Time for epoch 50 is 0.22028541564941406 sec \n",
      "Time for epoch 51 is 0.22265028953552246 sec \n",
      "Time for epoch 52 is 0.22493886947631836 sec \n",
      "Time for epoch 53 is 0.22081565856933594 sec \n",
      "Time for epoch 54 is 0.22230792045593262 sec \n",
      "Time for epoch 55 is 0.21899986267089844 sec \n",
      "Time for epoch 56 is 0.2287607192993164 sec \n",
      "Time for epoch 57 is 0.22382092475891113 sec \n",
      "Time for epoch 58 is 0.22072958946228027 sec \n",
      "Time for epoch 59 is 0.21997308731079102 sec \n",
      "Time for epoch 60 is 0.22280478477478027 sec \n",
      "Time for epoch 61 is 0.22449970245361328 sec \n",
      "Time for epoch 62 is 0.21727657318115234 sec \n",
      "Time for epoch 63 is 0.22319912910461426 sec \n",
      "Time for epoch 64 is 0.24036788940429688 sec \n",
      "Time for epoch 65 is 0.24844717979431152 sec \n",
      "Time for epoch 66 is 0.22807788848876953 sec \n",
      "Time for epoch 67 is 0.22688579559326172 sec \n",
      "Time for epoch 68 is 0.22000336647033691 sec \n",
      "Time for epoch 69 is 0.22316193580627441 sec \n",
      "Time for epoch 70 is 0.22658061981201172 sec \n",
      "Time for epoch 71 is 0.2235240936279297 sec \n",
      "Time for epoch 72 is 0.21711063385009766 sec \n",
      "Time for epoch 73 is 0.21596884727478027 sec \n",
      "Time for epoch 74 is 0.22516250610351562 sec \n",
      "Time for epoch 75 is 0.2203536033630371 sec \n",
      "Time for epoch 76 is 0.22108674049377441 sec \n",
      "Time for epoch 77 is 0.22115731239318848 sec \n",
      "Time for epoch 78 is 0.22687149047851562 sec \n",
      "Time for epoch 79 is 0.2250826358795166 sec \n",
      "Time for epoch 80 is 0.22086691856384277 sec \n",
      "Time for epoch 81 is 0.21559619903564453 sec \n",
      "Time for epoch 82 is 0.2174229621887207 sec \n",
      "Time for epoch 83 is 0.2250828742980957 sec \n",
      "Time for epoch 84 is 0.22135376930236816 sec \n",
      "Time for epoch 85 is 0.21849274635314941 sec \n",
      "Time for epoch 86 is 0.22246098518371582 sec \n",
      "Time for epoch 87 is 0.22563886642456055 sec \n",
      "Time for epoch 88 is 0.2136530876159668 sec \n",
      "Time for epoch 89 is 0.21522188186645508 sec \n",
      "Time for epoch 90 is 0.21590256690979004 sec \n",
      "Time for epoch 91 is 0.2169349193572998 sec \n",
      "Time for epoch 92 is 0.21938753128051758 sec \n",
      "Time for epoch 93 is 0.21866869926452637 sec \n",
      "Time for epoch 94 is 0.2241358757019043 sec \n",
      "Time for epoch 95 is 0.21693944931030273 sec \n",
      "Time for epoch 96 is 0.22278594970703125 sec \n",
      "Time for epoch 97 is 0.21964550018310547 sec \n",
      "Time for epoch 98 is 0.21913528442382812 sec \n",
      "Time for epoch 99 is 0.2145860195159912 sec \n",
      "Time for epoch 100 is 0.22063660621643066 sec \n",
      "Time for epoch 101 is 0.21729540824890137 sec \n",
      "Time for epoch 102 is 0.2155458927154541 sec \n",
      "Time for epoch 103 is 0.22191667556762695 sec \n",
      "Time for epoch 104 is 0.21607065200805664 sec \n",
      "Time for epoch 105 is 0.2226426601409912 sec \n",
      "Time for epoch 106 is 0.22292828559875488 sec \n",
      "Time for epoch 107 is 0.22200870513916016 sec \n",
      "Time for epoch 108 is 0.2215890884399414 sec \n",
      "Time for epoch 109 is 0.2591590881347656 sec \n",
      "Time for epoch 110 is 0.2455885410308838 sec \n",
      "Time for epoch 111 is 0.22194504737854004 sec \n",
      "Time for epoch 112 is 0.22081756591796875 sec \n",
      "Time for epoch 113 is 0.21463418006896973 sec \n",
      "Time for epoch 114 is 0.2556803226470947 sec \n",
      "Time for epoch 115 is 0.2626016139984131 sec \n",
      "Time for epoch 116 is 0.2694673538208008 sec \n",
      "Time for epoch 117 is 0.27497148513793945 sec \n",
      "Time for epoch 118 is 0.25241541862487793 sec \n",
      "Time for epoch 119 is 0.2504403591156006 sec \n",
      "Time for epoch 120 is 0.2525351047515869 sec \n",
      "Time for epoch 121 is 0.24889516830444336 sec \n",
      "Time for epoch 122 is 0.25919198989868164 sec \n",
      "Time for epoch 123 is 0.23089814186096191 sec \n",
      "Time for epoch 124 is 0.2161099910736084 sec \n",
      "Time for epoch 125 is 0.21395015716552734 sec \n",
      "Time for epoch 126 is 0.21828484535217285 sec \n",
      "Time for epoch 127 is 0.22359323501586914 sec \n",
      "Time for epoch 128 is 0.21712541580200195 sec \n",
      "Time for epoch 129 is 0.21689224243164062 sec \n",
      "Time for epoch 130 is 0.21923232078552246 sec \n",
      "Time for epoch 131 is 0.2219250202178955 sec \n",
      "Time for epoch 132 is 0.22245168685913086 sec \n",
      "Time for epoch 133 is 0.21666264533996582 sec \n",
      "Time for epoch 134 is 0.2141420841217041 sec \n",
      "Time for epoch 135 is 0.22428131103515625 sec \n",
      "Time for epoch 136 is 0.22231483459472656 sec \n",
      "Time for epoch 137 is 0.2217259407043457 sec \n",
      "Time for epoch 138 is 0.21298623085021973 sec \n",
      "Time for epoch 139 is 0.21270179748535156 sec \n",
      "Time for epoch 140 is 0.22514963150024414 sec \n",
      "Time for epoch 141 is 0.22047042846679688 sec \n",
      "Time for epoch 142 is 0.21931695938110352 sec \n",
      "Time for epoch 143 is 0.22121715545654297 sec \n",
      "Time for epoch 144 is 0.21581435203552246 sec \n",
      "Time for epoch 145 is 0.21842050552368164 sec \n",
      "Time for epoch 146 is 0.2136392593383789 sec \n",
      "Time for epoch 147 is 0.22226428985595703 sec \n",
      "Time for epoch 148 is 0.22093605995178223 sec \n",
      "Time for epoch 149 is 0.22453951835632324 sec \n",
      "Time for epoch 150 is 0.2212820053100586 sec \n",
      "Time for epoch 151 is 0.21109390258789062 sec \n",
      "Time for epoch 152 is 0.22632741928100586 sec \n",
      "Time for epoch 153 is 0.2518792152404785 sec \n",
      "Time for epoch 154 is 0.22917723655700684 sec \n",
      "Time for epoch 155 is 0.22149133682250977 sec \n",
      "Time for epoch 156 is 0.2161870002746582 sec \n",
      "Time for epoch 157 is 0.22301888465881348 sec \n",
      "Time for epoch 158 is 0.22598481178283691 sec \n",
      "Time for epoch 159 is 0.22307777404785156 sec \n",
      "Time for epoch 160 is 0.2166919708251953 sec \n",
      "Time for epoch 161 is 0.22103428840637207 sec \n",
      "Time for epoch 162 is 0.2166600227355957 sec \n",
      "Time for epoch 163 is 0.2244582176208496 sec \n",
      "Time for epoch 164 is 0.22127270698547363 sec \n",
      "Time for epoch 165 is 0.21904373168945312 sec \n",
      "Time for epoch 166 is 0.22223830223083496 sec \n",
      "Time for epoch 167 is 0.22784924507141113 sec \n",
      "Time for epoch 168 is 0.21701383590698242 sec \n",
      "Time for epoch 169 is 0.21494054794311523 sec \n",
      "Time for epoch 170 is 0.21885108947753906 sec \n",
      "Time for epoch 171 is 0.21977663040161133 sec \n",
      "Time for epoch 172 is 0.22254610061645508 sec \n",
      "Time for epoch 173 is 0.2182779312133789 sec \n",
      "Time for epoch 174 is 0.22041916847229004 sec \n",
      "Time for epoch 175 is 0.224165678024292 sec \n",
      "Time for epoch 176 is 0.2262423038482666 sec \n",
      "Time for epoch 177 is 0.22588276863098145 sec \n",
      "Time for epoch 178 is 0.21681642532348633 sec \n",
      "Time for epoch 179 is 0.2142636775970459 sec \n",
      "Time for epoch 180 is 0.22030925750732422 sec \n",
      "Time for epoch 181 is 0.22655844688415527 sec \n",
      "Time for epoch 182 is 0.21914148330688477 sec \n",
      "Time for epoch 183 is 0.2187485694885254 sec \n",
      "Time for epoch 184 is 0.2196362018585205 sec \n",
      "Time for epoch 185 is 0.22308874130249023 sec \n",
      "Time for epoch 186 is 0.22386717796325684 sec \n",
      "Time for epoch 187 is 0.22955942153930664 sec \n",
      "Time for epoch 188 is 0.21994924545288086 sec \n",
      "Time for epoch 189 is 0.2281324863433838 sec \n",
      "Time for epoch 190 is 0.22842144966125488 sec \n",
      "Time for epoch 191 is 0.22567510604858398 sec \n",
      "Time for epoch 192 is 0.22133755683898926 sec \n",
      "Time for epoch 193 is 0.2236013412475586 sec \n",
      "Time for epoch 194 is 0.22114038467407227 sec \n",
      "Time for epoch 195 is 0.2239999771118164 sec \n",
      "Time for epoch 196 is 0.21193552017211914 sec \n",
      "Time for epoch 197 is 0.22834372520446777 sec \n",
      "Time for epoch 198 is 0.24862241744995117 sec \n",
      "Time for epoch 199 is 0.22873401641845703 sec \n",
      "Time for epoch 200 is 0.2238905429840088 sec \n",
      "Time for epoch 201 is 0.2238006591796875 sec \n",
      "Time for epoch 202 is 0.22204875946044922 sec \n",
      "Time for epoch 203 is 0.22362256050109863 sec \n",
      "Time for epoch 204 is 0.22134184837341309 sec \n",
      "Time for epoch 205 is 0.22326087951660156 sec \n",
      "Time for epoch 206 is 0.21945619583129883 sec \n",
      "Time for epoch 207 is 0.2246081829071045 sec \n",
      "Time for epoch 208 is 0.23289823532104492 sec \n",
      "Time for epoch 209 is 0.2215590476989746 sec \n",
      "Time for epoch 210 is 0.21664762496948242 sec \n",
      "Time for epoch 211 is 0.2229316234588623 sec \n",
      "Time for epoch 212 is 0.22929978370666504 sec \n",
      "Time for epoch 213 is 0.22414875030517578 sec \n",
      "Time for epoch 214 is 0.22272253036499023 sec \n",
      "Time for epoch 215 is 0.21698474884033203 sec \n",
      "Time for epoch 216 is 0.22306346893310547 sec \n",
      "Time for epoch 217 is 0.23476672172546387 sec \n",
      "Time for epoch 218 is 0.22346758842468262 sec \n",
      "Time for epoch 219 is 0.21921491622924805 sec \n",
      "Time for epoch 220 is 0.219710111618042 sec \n",
      "Time for epoch 221 is 0.22524356842041016 sec \n",
      "Time for epoch 222 is 0.22056841850280762 sec \n",
      "Time for epoch 223 is 0.22057628631591797 sec \n",
      "Time for epoch 224 is 0.21983718872070312 sec \n",
      "Time for epoch 225 is 0.2215275764465332 sec \n",
      "Time for epoch 226 is 0.22216224670410156 sec \n",
      "Time for epoch 227 is 0.2181229591369629 sec \n",
      "Time for epoch 228 is 0.22270417213439941 sec \n",
      "Time for epoch 229 is 0.21376562118530273 sec \n",
      "Time for epoch 230 is 0.22331666946411133 sec \n",
      "Time for epoch 231 is 0.22194695472717285 sec \n",
      "Time for epoch 232 is 0.2275679111480713 sec \n",
      "Time for epoch 233 is 0.22256064414978027 sec \n",
      "Time for epoch 234 is 0.22308111190795898 sec \n",
      "Time for epoch 235 is 0.22697687149047852 sec \n",
      "Time for epoch 236 is 0.215925931930542 sec \n",
      "Time for epoch 237 is 0.21627497673034668 sec \n",
      "Time for epoch 238 is 0.222092866897583 sec \n",
      "Time for epoch 239 is 0.22240924835205078 sec \n",
      "Time for epoch 240 is 0.22435951232910156 sec \n",
      "Time for epoch 241 is 0.220991849899292 sec \n",
      "Time for epoch 242 is 0.22699975967407227 sec \n",
      "Time for epoch 243 is 0.28047633171081543 sec \n",
      "Time for epoch 244 is 0.2271430492401123 sec \n",
      "Time for epoch 245 is 0.21648073196411133 sec \n",
      "Time for epoch 246 is 0.22088313102722168 sec \n",
      "Time for epoch 247 is 0.22478413581848145 sec \n",
      "Time for epoch 248 is 0.23048830032348633 sec \n",
      "Time for epoch 249 is 0.21586871147155762 sec \n",
      "Time for epoch 250 is 0.21469569206237793 sec \n",
      "Time for epoch 251 is 0.22088408470153809 sec \n",
      "Time for epoch 252 is 0.22404146194458008 sec \n",
      "Time for epoch 253 is 0.22578763961791992 sec \n",
      "Time for epoch 254 is 0.217254638671875 sec \n",
      "Time for epoch 255 is 0.21789216995239258 sec \n",
      "Time for epoch 256 is 0.22139906883239746 sec \n",
      "Time for epoch 257 is 0.23005318641662598 sec \n",
      "Time for epoch 258 is 0.22616863250732422 sec \n",
      "Time for epoch 259 is 0.256730318069458 sec \n",
      "Time for epoch 260 is 0.27803850173950195 sec \n",
      "Time for epoch 261 is 0.27895498275756836 sec \n",
      "Time for epoch 262 is 0.2558462619781494 sec \n",
      "Time for epoch 263 is 0.2491137981414795 sec \n",
      "Time for epoch 264 is 0.2424604892730713 sec \n",
      "Time for epoch 265 is 0.2623903751373291 sec \n",
      "Time for epoch 266 is 0.24473023414611816 sec \n",
      "Time for epoch 267 is 0.2320847511291504 sec \n",
      "Time for epoch 268 is 0.21906208992004395 sec \n",
      "Time for epoch 269 is 0.22514891624450684 sec \n",
      "Time for epoch 270 is 0.21665215492248535 sec \n",
      "Time for epoch 271 is 0.21828985214233398 sec \n",
      "Time for epoch 272 is 0.21154427528381348 sec \n",
      "Time for epoch 273 is 0.21388626098632812 sec \n",
      "Time for epoch 274 is 0.21976494789123535 sec \n",
      "Time for epoch 275 is 0.21550774574279785 sec \n",
      "Time for epoch 276 is 0.21409130096435547 sec \n",
      "Time for epoch 277 is 0.21823358535766602 sec \n",
      "Time for epoch 278 is 0.21986031532287598 sec \n",
      "Time for epoch 279 is 0.2232365608215332 sec \n",
      "Time for epoch 280 is 0.21203303337097168 sec \n",
      "Time for epoch 281 is 0.21007442474365234 sec \n",
      "Time for epoch 282 is 0.21483826637268066 sec \n",
      "Time for epoch 283 is 0.2252357006072998 sec \n",
      "Time for epoch 284 is 0.22325921058654785 sec \n",
      "Time for epoch 285 is 0.23027920722961426 sec \n",
      "Time for epoch 286 is 0.25559043884277344 sec \n",
      "Time for epoch 287 is 0.2408885955810547 sec \n",
      "Time for epoch 288 is 0.22134804725646973 sec \n",
      "Time for epoch 289 is 0.2217867374420166 sec \n",
      "Time for epoch 290 is 0.2182157039642334 sec \n",
      "Time for epoch 291 is 0.21944570541381836 sec \n",
      "Time for epoch 292 is 0.22190260887145996 sec \n",
      "Time for epoch 293 is 0.21944308280944824 sec \n",
      "Time for epoch 294 is 0.2238781452178955 sec \n",
      "Time for epoch 295 is 0.2198319435119629 sec \n",
      "Time for epoch 296 is 0.22040557861328125 sec \n",
      "Time for epoch 297 is 0.22201943397521973 sec \n",
      "Time for epoch 298 is 0.21802186965942383 sec \n",
      "Time for epoch 299 is 0.22317028045654297 sec \n",
      "Time for epoch 300 is 0.2241380214691162 sec \n",
      "Time for epoch 301 is 0.22545790672302246 sec \n",
      "Time for epoch 302 is 0.22115373611450195 sec \n",
      "Time for epoch 303 is 0.21908879280090332 sec \n",
      "Time for epoch 304 is 0.2234814167022705 sec \n",
      "Time for epoch 305 is 0.22543907165527344 sec \n",
      "Time for epoch 306 is 0.23384833335876465 sec \n",
      "Time for epoch 307 is 0.22196674346923828 sec \n",
      "Time for epoch 308 is 0.22121214866638184 sec \n",
      "Time for epoch 309 is 0.22254490852355957 sec \n",
      "Time for epoch 310 is 0.22673583030700684 sec \n",
      "Time for epoch 311 is 0.2206110954284668 sec \n",
      "Time for epoch 312 is 0.22355437278747559 sec \n",
      "Time for epoch 313 is 0.23366379737854004 sec \n",
      "Time for epoch 314 is 0.22742176055908203 sec \n",
      "Time for epoch 315 is 0.22221779823303223 sec \n",
      "Time for epoch 316 is 0.22914814949035645 sec \n",
      "Time for epoch 317 is 0.21889209747314453 sec \n",
      "Time for epoch 318 is 0.21887826919555664 sec \n",
      "Time for epoch 319 is 0.22895383834838867 sec \n",
      "Time for epoch 320 is 0.2194368839263916 sec \n",
      "Time for epoch 321 is 0.22090768814086914 sec \n",
      "Time for epoch 322 is 0.3025245666503906 sec \n",
      "Time for epoch 323 is 0.23222899436950684 sec \n",
      "Time for epoch 324 is 0.22739100456237793 sec \n",
      "Time for epoch 325 is 0.21931219100952148 sec \n",
      "Time for epoch 326 is 0.2219841480255127 sec \n",
      "Time for epoch 327 is 0.2196657657623291 sec \n",
      "Time for epoch 328 is 0.224928617477417 sec \n",
      "Time for epoch 329 is 0.2180345058441162 sec \n",
      "Time for epoch 330 is 0.22391843795776367 sec \n",
      "Time for epoch 331 is 0.26122331619262695 sec \n",
      "Time for epoch 332 is 0.23148798942565918 sec \n",
      "Time for epoch 333 is 0.22550249099731445 sec \n",
      "Time for epoch 334 is 0.21773672103881836 sec \n",
      "Time for epoch 335 is 0.21753859519958496 sec \n",
      "Time for epoch 336 is 0.22713899612426758 sec \n",
      "Time for epoch 337 is 0.2184438705444336 sec \n",
      "Time for epoch 338 is 0.2210829257965088 sec \n",
      "Time for epoch 339 is 0.21895217895507812 sec \n",
      "Time for epoch 340 is 0.22148942947387695 sec \n",
      "Time for epoch 341 is 0.2233879566192627 sec \n",
      "Time for epoch 342 is 0.22151780128479004 sec \n",
      "Time for epoch 343 is 0.2285301685333252 sec \n",
      "Time for epoch 344 is 0.2208724021911621 sec \n",
      "Time for epoch 345 is 0.22951459884643555 sec \n",
      "Time for epoch 346 is 0.2261512279510498 sec \n",
      "Time for epoch 347 is 0.21766352653503418 sec \n",
      "Time for epoch 348 is 0.22101283073425293 sec \n",
      "Time for epoch 349 is 0.24718046188354492 sec \n",
      "Time for epoch 350 is 0.24459552764892578 sec \n",
      "Time for epoch 351 is 0.22092914581298828 sec \n",
      "Time for epoch 352 is 0.22566461563110352 sec \n",
      "Time for epoch 353 is 0.22337007522583008 sec \n",
      "Time for epoch 354 is 0.22286200523376465 sec \n",
      "Time for epoch 355 is 0.22213530540466309 sec \n",
      "Time for epoch 356 is 0.21982049942016602 sec \n",
      "Time for epoch 357 is 0.21967434883117676 sec \n",
      "Time for epoch 358 is 0.22201228141784668 sec \n",
      "Time for epoch 359 is 0.22204303741455078 sec \n",
      "Time for epoch 360 is 0.22225379943847656 sec \n",
      "Time for epoch 361 is 0.22553634643554688 sec \n",
      "Time for epoch 362 is 0.21939539909362793 sec \n",
      "Time for epoch 363 is 0.22670745849609375 sec \n",
      "Time for epoch 364 is 0.222808837890625 sec \n",
      "Time for epoch 365 is 0.21637320518493652 sec \n",
      "Time for epoch 366 is 0.21998238563537598 sec \n",
      "Time for epoch 367 is 0.22628211975097656 sec \n",
      "Time for epoch 368 is 0.22361135482788086 sec \n",
      "Time for epoch 369 is 0.22171282768249512 sec \n",
      "Time for epoch 370 is 0.2196512222290039 sec \n",
      "Time for epoch 371 is 0.23094487190246582 sec \n",
      "Time for epoch 372 is 0.22326040267944336 sec \n",
      "Time for epoch 373 is 0.22182369232177734 sec \n",
      "Time for epoch 374 is 0.2261800765991211 sec \n",
      "Time for epoch 375 is 0.2789497375488281 sec \n",
      "Time for epoch 376 is 0.2450551986694336 sec \n",
      "Time for epoch 377 is 0.22375750541687012 sec \n",
      "Time for epoch 378 is 0.2202901840209961 sec \n",
      "Time for epoch 379 is 0.22896051406860352 sec \n",
      "Time for epoch 380 is 0.22263145446777344 sec \n",
      "Time for epoch 381 is 0.23122382164001465 sec \n",
      "Time for epoch 382 is 0.21631121635437012 sec \n",
      "Time for epoch 383 is 0.22376799583435059 sec \n",
      "Time for epoch 384 is 0.22211313247680664 sec \n",
      "Time for epoch 385 is 0.22362184524536133 sec \n",
      "Time for epoch 386 is 0.22316622734069824 sec \n",
      "Time for epoch 387 is 0.2177896499633789 sec \n",
      "Time for epoch 388 is 0.22436046600341797 sec \n",
      "Time for epoch 389 is 0.22182655334472656 sec \n",
      "Time for epoch 390 is 0.22363638877868652 sec \n",
      "Time for epoch 391 is 0.21684932708740234 sec \n",
      "Time for epoch 392 is 0.2229764461517334 sec \n",
      "Time for epoch 393 is 0.22808074951171875 sec \n",
      "Time for epoch 394 is 0.22463011741638184 sec \n",
      "Time for epoch 395 is 0.22196698188781738 sec \n",
      "Time for epoch 396 is 0.2207643985748291 sec \n",
      "Time for epoch 397 is 0.2138681411743164 sec \n",
      "Time for epoch 398 is 0.22238898277282715 sec \n",
      "Time for epoch 399 is 0.22300004959106445 sec \n",
      "Time for epoch 400 is 0.2197887897491455 sec \n",
      "Time for epoch 401 is 0.21531200408935547 sec \n",
      "Time for epoch 402 is 0.2744874954223633 sec \n",
      "Time for epoch 403 is 0.2728307247161865 sec \n",
      "Time for epoch 404 is 0.28405094146728516 sec \n",
      "Time for epoch 405 is 0.25557422637939453 sec \n",
      "Time for epoch 406 is 0.25710558891296387 sec \n",
      "Time for epoch 407 is 0.2610321044921875 sec \n",
      "Time for epoch 408 is 0.25722813606262207 sec \n",
      "Time for epoch 409 is 0.26157164573669434 sec \n",
      "Time for epoch 410 is 0.2531626224517822 sec \n",
      "Time for epoch 411 is 0.22085285186767578 sec \n",
      "Time for epoch 412 is 0.2146739959716797 sec \n",
      "Time for epoch 413 is 0.21431303024291992 sec \n",
      "Time for epoch 414 is 0.21582245826721191 sec \n",
      "Time for epoch 415 is 0.22639894485473633 sec \n",
      "Time for epoch 416 is 0.21725082397460938 sec \n",
      "Time for epoch 417 is 0.2266826629638672 sec \n",
      "Time for epoch 418 is 0.26689672470092773 sec \n",
      "Time for epoch 419 is 0.22890353202819824 sec \n",
      "Time for epoch 420 is 0.2331383228302002 sec \n",
      "Time for epoch 421 is 0.2253117561340332 sec \n",
      "Time for epoch 422 is 0.2233567237854004 sec \n",
      "Time for epoch 423 is 0.22212815284729004 sec \n",
      "Time for epoch 424 is 0.22426652908325195 sec \n",
      "Time for epoch 425 is 0.2268054485321045 sec \n",
      "Time for epoch 426 is 0.22070693969726562 sec \n",
      "Time for epoch 427 is 0.22165513038635254 sec \n",
      "Time for epoch 428 is 0.22304701805114746 sec \n",
      "Time for epoch 429 is 0.23137998580932617 sec \n",
      "Time for epoch 430 is 0.22417068481445312 sec \n",
      "Time for epoch 431 is 0.23212575912475586 sec \n",
      "Time for epoch 432 is 0.2319648265838623 sec \n",
      "Time for epoch 433 is 0.2276005744934082 sec \n",
      "Time for epoch 434 is 0.2273554801940918 sec \n",
      "Time for epoch 435 is 0.22411131858825684 sec \n",
      "Time for epoch 436 is 0.23009896278381348 sec \n",
      "Time for epoch 437 is 0.23594021797180176 sec \n",
      "Time for epoch 438 is 0.2267284393310547 sec \n",
      "Time for epoch 439 is 0.2236323356628418 sec \n",
      "Time for epoch 440 is 0.22090435028076172 sec \n",
      "Time for epoch 441 is 0.23062682151794434 sec \n",
      "Time for epoch 442 is 0.23263859748840332 sec \n",
      "Time for epoch 443 is 0.22153067588806152 sec \n",
      "Time for epoch 444 is 0.2251725196838379 sec \n",
      "Time for epoch 445 is 0.24184465408325195 sec \n",
      "Time for epoch 446 is 0.22565650939941406 sec \n",
      "Time for epoch 447 is 0.22471141815185547 sec \n",
      "Time for epoch 448 is 0.2344038486480713 sec \n",
      "Time for epoch 449 is 0.22648191452026367 sec \n",
      "Time for epoch 450 is 0.2297985553741455 sec \n",
      "Time for epoch 451 is 0.24079084396362305 sec \n",
      "Time for epoch 452 is 0.2243342399597168 sec \n",
      "Time for epoch 453 is 0.2305293083190918 sec \n",
      "Time for epoch 454 is 0.23639798164367676 sec \n",
      "Time for epoch 455 is 0.23169803619384766 sec \n",
      "Time for epoch 456 is 0.22937870025634766 sec \n",
      "Time for epoch 457 is 0.22876954078674316 sec \n",
      "Time for epoch 458 is 0.22478675842285156 sec \n",
      "Time for epoch 459 is 0.2264258861541748 sec \n",
      "Time for epoch 460 is 0.2194972038269043 sec \n",
      "Time for epoch 461 is 0.22632074356079102 sec \n",
      "Time for epoch 462 is 0.2687399387359619 sec \n",
      "Time for epoch 463 is 0.23689484596252441 sec \n",
      "Time for epoch 464 is 0.22445416450500488 sec \n",
      "Time for epoch 465 is 0.22144556045532227 sec \n",
      "Time for epoch 466 is 0.22643804550170898 sec \n",
      "Time for epoch 467 is 0.22629904747009277 sec \n",
      "Time for epoch 468 is 0.2285442352294922 sec \n",
      "Time for epoch 469 is 0.2187190055847168 sec \n",
      "Time for epoch 470 is 0.22321033477783203 sec \n",
      "Time for epoch 471 is 0.21766066551208496 sec \n",
      "Time for epoch 472 is 0.2278003692626953 sec \n",
      "Time for epoch 473 is 0.22613048553466797 sec \n",
      "Time for epoch 474 is 0.22388148307800293 sec \n",
      "Time for epoch 475 is 0.22624659538269043 sec \n",
      "Time for epoch 476 is 0.22719287872314453 sec \n",
      "Time for epoch 477 is 0.2235107421875 sec \n",
      "Time for epoch 478 is 0.2226114273071289 sec \n",
      "Time for epoch 479 is 0.22109699249267578 sec \n",
      "Time for epoch 480 is 0.22696375846862793 sec \n",
      "Time for epoch 481 is 0.22512078285217285 sec \n",
      "Time for epoch 482 is 0.22789788246154785 sec \n",
      "Time for epoch 483 is 0.22311067581176758 sec \n",
      "Time for epoch 484 is 0.2203524112701416 sec \n",
      "Time for epoch 485 is 0.22821950912475586 sec \n",
      "Time for epoch 486 is 0.22039580345153809 sec \n",
      "Time for epoch 487 is 0.21924996376037598 sec \n",
      "Time for epoch 488 is 0.22379279136657715 sec \n",
      "Time for epoch 489 is 0.22911691665649414 sec \n",
      "Time for epoch 490 is 0.22359085083007812 sec \n",
      "Time for epoch 491 is 0.2213742733001709 sec \n",
      "Time for epoch 492 is 0.220916748046875 sec \n",
      "Time for epoch 493 is 0.22687482833862305 sec \n",
      "Time for epoch 494 is 0.2238907814025879 sec \n",
      "Time for epoch 495 is 0.22924017906188965 sec \n",
      "Time for epoch 496 is 0.22486543655395508 sec \n",
      "Time for epoch 497 is 0.22731232643127441 sec \n",
      "Time for epoch 498 is 0.23039650917053223 sec \n",
      "Time for epoch 499 is 0.2328486442565918 sec \n",
      "Time for epoch 500 is 0.22378802299499512 sec \n",
      "Time for epoch 501 is 0.22432756423950195 sec \n",
      "Time for epoch 502 is 0.22523784637451172 sec \n",
      "Time for epoch 503 is 0.22320842742919922 sec \n",
      "Time for epoch 504 is 0.22122502326965332 sec \n",
      "Time for epoch 505 is 0.22316956520080566 sec \n",
      "Time for epoch 506 is 0.2528963088989258 sec \n",
      "Time for epoch 507 is 0.23667430877685547 sec \n",
      "Time for epoch 508 is 0.24658727645874023 sec \n",
      "Time for epoch 509 is 0.22179865837097168 sec \n",
      "Time for epoch 510 is 0.23155665397644043 sec \n",
      "Time for epoch 511 is 0.25068235397338867 sec \n",
      "Time for epoch 512 is 0.22788166999816895 sec \n",
      "Time for epoch 513 is 0.22297215461730957 sec \n",
      "Time for epoch 514 is 0.22233963012695312 sec \n",
      "Time for epoch 515 is 0.22152113914489746 sec \n",
      "Time for epoch 516 is 0.23225092887878418 sec \n",
      "Time for epoch 517 is 0.224290132522583 sec \n",
      "Time for epoch 518 is 0.22713017463684082 sec \n",
      "Time for epoch 519 is 0.2230851650238037 sec \n",
      "Time for epoch 520 is 0.2354574203491211 sec \n",
      "Time for epoch 521 is 0.22458815574645996 sec \n",
      "Time for epoch 522 is 0.2311089038848877 sec \n",
      "Time for epoch 523 is 0.2317650318145752 sec \n",
      "Time for epoch 524 is 0.2306835651397705 sec \n",
      "Time for epoch 525 is 0.22193527221679688 sec \n",
      "Time for epoch 526 is 0.22239303588867188 sec \n",
      "Time for epoch 527 is 0.22773218154907227 sec \n",
      "Time for epoch 528 is 0.2210063934326172 sec \n",
      "Time for epoch 529 is 0.23142695426940918 sec \n",
      "Time for epoch 530 is 0.22634053230285645 sec \n",
      "Time for epoch 531 is 0.22507143020629883 sec \n",
      "Time for epoch 532 is 0.22362780570983887 sec \n",
      "Time for epoch 533 is 0.22335076332092285 sec \n",
      "Time for epoch 534 is 0.2247178554534912 sec \n",
      "Time for epoch 535 is 0.2243049144744873 sec \n",
      "Time for epoch 536 is 0.21492648124694824 sec \n",
      "Time for epoch 537 is 0.22359657287597656 sec \n",
      "Time for epoch 538 is 0.22838068008422852 sec \n",
      "Time for epoch 539 is 0.24248957633972168 sec \n",
      "Time for epoch 540 is 0.2308492660522461 sec \n",
      "Time for epoch 541 is 0.22803735733032227 sec \n",
      "Time for epoch 542 is 0.23290729522705078 sec \n",
      "Time for epoch 543 is 0.2616908550262451 sec \n",
      "Time for epoch 544 is 0.2747030258178711 sec \n",
      "Time for epoch 545 is 0.2742774486541748 sec \n",
      "Time for epoch 546 is 0.25932860374450684 sec \n",
      "Time for epoch 547 is 0.25369834899902344 sec \n",
      "Time for epoch 548 is 0.26611804962158203 sec \n",
      "Time for epoch 549 is 0.308351993560791 sec \n",
      "Time for epoch 550 is 0.2705843448638916 sec \n",
      "Time for epoch 551 is 0.24147748947143555 sec \n",
      "Time for epoch 552 is 0.22270512580871582 sec \n",
      "Time for epoch 553 is 0.22360539436340332 sec \n",
      "Time for epoch 554 is 0.22274994850158691 sec \n",
      "Time for epoch 555 is 0.22137999534606934 sec \n",
      "Time for epoch 556 is 0.2236156463623047 sec \n",
      "Time for epoch 557 is 0.2210254669189453 sec \n",
      "Time for epoch 558 is 0.22441792488098145 sec \n",
      "Time for epoch 559 is 0.22388648986816406 sec \n",
      "Time for epoch 560 is 0.2170722484588623 sec \n",
      "Time for epoch 561 is 0.22210931777954102 sec \n",
      "Time for epoch 562 is 0.22386956214904785 sec \n",
      "Time for epoch 563 is 0.2210378646850586 sec \n",
      "Time for epoch 564 is 0.2307422161102295 sec \n",
      "Time for epoch 565 is 0.2256031036376953 sec \n",
      "Time for epoch 566 is 0.22556781768798828 sec \n",
      "Time for epoch 567 is 0.2250962257385254 sec \n",
      "Time for epoch 568 is 0.2221531867980957 sec \n",
      "Time for epoch 569 is 0.21880674362182617 sec \n",
      "Time for epoch 570 is 0.2221827507019043 sec \n",
      "Time for epoch 571 is 0.21399950981140137 sec \n",
      "Time for epoch 572 is 0.2258286476135254 sec \n",
      "Time for epoch 573 is 0.22070670127868652 sec \n",
      "Time for epoch 574 is 0.22002720832824707 sec \n",
      "Time for epoch 575 is 0.22330284118652344 sec \n",
      "Time for epoch 576 is 0.2293102741241455 sec \n",
      "Time for epoch 577 is 0.22117304801940918 sec \n",
      "Time for epoch 578 is 0.22925639152526855 sec \n",
      "Time for epoch 579 is 0.2323296070098877 sec \n",
      "Time for epoch 580 is 0.22807645797729492 sec \n",
      "Time for epoch 581 is 0.21602272987365723 sec \n",
      "Time for epoch 582 is 0.22367429733276367 sec \n",
      "Time for epoch 583 is 0.21669411659240723 sec \n",
      "Time for epoch 584 is 0.22028827667236328 sec \n",
      "Time for epoch 585 is 0.2520105838775635 sec \n",
      "Time for epoch 586 is 0.23064374923706055 sec \n",
      "Time for epoch 587 is 0.22359132766723633 sec \n",
      "Time for epoch 588 is 0.2354574203491211 sec \n",
      "Time for epoch 589 is 0.22994399070739746 sec \n",
      "Time for epoch 590 is 0.2189180850982666 sec \n",
      "Time for epoch 591 is 0.2311267852783203 sec \n",
      "Time for epoch 592 is 0.2303149700164795 sec \n",
      "Time for epoch 593 is 0.2756164073944092 sec \n",
      "Time for epoch 594 is 0.25568723678588867 sec \n",
      "Time for epoch 595 is 0.2378249168395996 sec \n",
      "Time for epoch 596 is 0.21479249000549316 sec \n",
      "Time for epoch 597 is 0.22356677055358887 sec \n",
      "Time for epoch 598 is 0.22178888320922852 sec \n",
      "Time for epoch 599 is 0.22074079513549805 sec \n",
      "Time for epoch 600 is 0.22583651542663574 sec \n",
      "Time for epoch 601 is 0.21764612197875977 sec \n",
      "Time for epoch 602 is 0.22141027450561523 sec \n",
      "Time for epoch 603 is 0.22209548950195312 sec \n",
      "Time for epoch 604 is 0.22219371795654297 sec \n",
      "Time for epoch 605 is 0.22682666778564453 sec \n",
      "Time for epoch 606 is 0.22597050666809082 sec \n",
      "Time for epoch 607 is 0.22487354278564453 sec \n",
      "Time for epoch 608 is 0.22200775146484375 sec \n",
      "Time for epoch 609 is 0.22083711624145508 sec \n",
      "Time for epoch 610 is 0.21746087074279785 sec \n",
      "Time for epoch 611 is 0.2232069969177246 sec \n",
      "Time for epoch 612 is 0.22939848899841309 sec \n",
      "Time for epoch 613 is 0.2244572639465332 sec \n",
      "Time for epoch 614 is 0.22427582740783691 sec \n",
      "Time for epoch 615 is 0.22490334510803223 sec \n",
      "Time for epoch 616 is 0.2345740795135498 sec \n",
      "Time for epoch 617 is 0.22165656089782715 sec \n",
      "Time for epoch 618 is 0.2203068733215332 sec \n",
      "Time for epoch 619 is 0.22427058219909668 sec \n",
      "Time for epoch 620 is 0.23949575424194336 sec \n",
      "Time for epoch 621 is 0.22041106224060059 sec \n",
      "Time for epoch 622 is 0.227341890335083 sec \n",
      "Time for epoch 623 is 0.22738337516784668 sec \n",
      "Time for epoch 624 is 0.22502946853637695 sec \n",
      "Time for epoch 625 is 0.2319188117980957 sec \n",
      "Time for epoch 626 is 0.22282075881958008 sec \n",
      "Time for epoch 627 is 0.22092151641845703 sec \n",
      "Time for epoch 628 is 0.22519302368164062 sec \n",
      "Time for epoch 629 is 0.23649883270263672 sec \n",
      "Time for epoch 630 is 0.22762441635131836 sec \n",
      "Time for epoch 631 is 0.22225093841552734 sec \n",
      "Time for epoch 632 is 0.23624491691589355 sec \n",
      "Time for epoch 633 is 0.22748351097106934 sec \n",
      "Time for epoch 634 is 0.22417521476745605 sec \n",
      "Time for epoch 635 is 0.21981072425842285 sec \n",
      "Time for epoch 636 is 0.23409175872802734 sec \n",
      "Time for epoch 637 is 0.2672591209411621 sec \n",
      "Time for epoch 638 is 0.23435020446777344 sec \n",
      "Time for epoch 639 is 0.24821090698242188 sec \n",
      "Time for epoch 640 is 0.24209094047546387 sec \n",
      "Time for epoch 641 is 0.2294621467590332 sec \n",
      "Time for epoch 642 is 0.23194050788879395 sec \n",
      "Time for epoch 643 is 0.22056055068969727 sec \n",
      "Time for epoch 644 is 0.21949410438537598 sec \n",
      "Time for epoch 645 is 0.2214350700378418 sec \n",
      "Time for epoch 646 is 0.22858023643493652 sec \n",
      "Time for epoch 647 is 0.2300276756286621 sec \n",
      "Time for epoch 648 is 0.2265472412109375 sec \n",
      "Time for epoch 649 is 0.22298169136047363 sec \n",
      "Time for epoch 650 is 0.22788715362548828 sec \n",
      "Time for epoch 651 is 0.22539138793945312 sec \n",
      "Time for epoch 652 is 0.2228381633758545 sec \n",
      "Time for epoch 653 is 0.22031188011169434 sec \n",
      "Time for epoch 654 is 0.23122549057006836 sec \n",
      "Time for epoch 655 is 0.23522257804870605 sec \n",
      "Time for epoch 656 is 0.22636198997497559 sec \n",
      "Time for epoch 657 is 0.23920607566833496 sec \n",
      "Time for epoch 658 is 0.22840499877929688 sec \n",
      "Time for epoch 659 is 0.22995471954345703 sec \n",
      "Time for epoch 660 is 0.22189044952392578 sec \n",
      "Time for epoch 661 is 0.22931885719299316 sec \n",
      "Time for epoch 662 is 0.22527575492858887 sec \n",
      "Time for epoch 663 is 0.2265007495880127 sec \n",
      "Time for epoch 664 is 0.2382655143737793 sec \n",
      "Time for epoch 665 is 0.22332453727722168 sec \n",
      "Time for epoch 666 is 0.21900081634521484 sec \n",
      "Time for epoch 667 is 0.22018957138061523 sec \n",
      "Time for epoch 668 is 0.22683334350585938 sec \n",
      "Time for epoch 669 is 0.22655129432678223 sec \n",
      "Time for epoch 670 is 0.2309582233428955 sec \n",
      "Time for epoch 671 is 0.22293496131896973 sec \n",
      "Time for epoch 672 is 0.21799421310424805 sec \n",
      "Time for epoch 673 is 0.22790002822875977 sec \n",
      "Time for epoch 674 is 0.22322964668273926 sec \n",
      "Time for epoch 675 is 0.2223219871520996 sec \n",
      "Time for epoch 676 is 0.2238471508026123 sec \n",
      "Time for epoch 677 is 0.22833251953125 sec \n",
      "Time for epoch 678 is 0.2168140411376953 sec \n",
      "Time for epoch 679 is 0.22637629508972168 sec \n",
      "Time for epoch 680 is 0.2369234561920166 sec \n",
      "Time for epoch 681 is 0.2550497055053711 sec \n",
      "Time for epoch 682 is 0.22487306594848633 sec \n",
      "Time for epoch 683 is 0.22108221054077148 sec \n",
      "Time for epoch 684 is 0.2834916114807129 sec \n",
      "Time for epoch 685 is 0.2868022918701172 sec \n",
      "Time for epoch 686 is 0.28241562843322754 sec \n",
      "Time for epoch 687 is 0.2745647430419922 sec \n",
      "Time for epoch 688 is 0.25904226303100586 sec \n",
      "Time for epoch 689 is 0.26148438453674316 sec \n",
      "Time for epoch 690 is 0.2689948081970215 sec \n",
      "Time for epoch 691 is 0.26015496253967285 sec \n",
      "Time for epoch 692 is 0.2426133155822754 sec \n",
      "Time for epoch 693 is 0.2249901294708252 sec \n",
      "Time for epoch 694 is 0.22230768203735352 sec \n",
      "Time for epoch 695 is 0.22050237655639648 sec \n",
      "Time for epoch 696 is 0.22422266006469727 sec \n",
      "Time for epoch 697 is 0.22617244720458984 sec \n",
      "Time for epoch 698 is 0.22753548622131348 sec \n",
      "Time for epoch 699 is 0.2207653522491455 sec \n",
      "Time for epoch 700 is 0.22632074356079102 sec \n",
      "Time for epoch 701 is 0.22044062614440918 sec \n",
      "Time for epoch 702 is 0.22890639305114746 sec \n",
      "Time for epoch 703 is 0.22677135467529297 sec \n",
      "Time for epoch 704 is 0.22147202491760254 sec \n",
      "Time for epoch 705 is 0.22413921356201172 sec \n",
      "Time for epoch 706 is 0.23120951652526855 sec \n",
      "Time for epoch 707 is 0.2224891185760498 sec \n",
      "Time for epoch 708 is 0.22248244285583496 sec \n",
      "Time for epoch 709 is 0.2249617576599121 sec \n",
      "Time for epoch 710 is 0.2243204116821289 sec \n",
      "Time for epoch 711 is 0.22730159759521484 sec \n",
      "Time for epoch 712 is 0.22380995750427246 sec \n",
      "Time for epoch 713 is 0.220717191696167 sec \n",
      "Time for epoch 714 is 0.22293567657470703 sec \n",
      "Time for epoch 715 is 0.2236013412475586 sec \n",
      "Time for epoch 716 is 0.2357335090637207 sec \n",
      "Time for epoch 717 is 0.2254624366760254 sec \n",
      "Time for epoch 718 is 0.22855186462402344 sec \n",
      "Time for epoch 719 is 0.23415470123291016 sec \n",
      "Time for epoch 720 is 0.22886180877685547 sec \n",
      "Time for epoch 721 is 0.221970796585083 sec \n",
      "Time for epoch 722 is 0.2394874095916748 sec \n",
      "Time for epoch 723 is 0.2675800323486328 sec \n",
      "Time for epoch 724 is 0.23919296264648438 sec \n",
      "Time for epoch 725 is 0.24663519859313965 sec \n",
      "Time for epoch 726 is 0.23247504234313965 sec \n",
      "Time for epoch 727 is 0.22455739974975586 sec \n",
      "Time for epoch 728 is 0.2282421588897705 sec \n",
      "Time for epoch 729 is 0.2221064567565918 sec \n",
      "Time for epoch 730 is 0.22041940689086914 sec \n",
      "Time for epoch 731 is 0.22678041458129883 sec \n",
      "Time for epoch 732 is 0.23170018196105957 sec \n",
      "Time for epoch 733 is 0.22992825508117676 sec \n",
      "Time for epoch 734 is 0.23504972457885742 sec \n",
      "Time for epoch 735 is 0.23000383377075195 sec \n",
      "Time for epoch 736 is 0.22708773612976074 sec \n",
      "Time for epoch 737 is 0.22685837745666504 sec \n",
      "Time for epoch 738 is 0.22643232345581055 sec \n",
      "Time for epoch 739 is 0.22532343864440918 sec \n",
      "Time for epoch 740 is 0.22702527046203613 sec \n",
      "Time for epoch 741 is 0.2268369197845459 sec \n",
      "Time for epoch 742 is 0.22790193557739258 sec \n",
      "Time for epoch 743 is 0.221052885055542 sec \n",
      "Time for epoch 744 is 0.2320234775543213 sec \n",
      "Time for epoch 745 is 0.22471952438354492 sec \n",
      "Time for epoch 746 is 0.22615766525268555 sec \n",
      "Time for epoch 747 is 0.22475624084472656 sec \n",
      "Time for epoch 748 is 0.22357535362243652 sec \n",
      "Time for epoch 749 is 0.22394585609436035 sec \n",
      "Time for epoch 750 is 0.226607084274292 sec \n",
      "Time for epoch 751 is 0.21879172325134277 sec \n",
      "Time for epoch 752 is 0.22490501403808594 sec \n",
      "Time for epoch 753 is 0.227980375289917 sec \n",
      "Time for epoch 754 is 0.220994234085083 sec \n",
      "Time for epoch 755 is 0.21936964988708496 sec \n",
      "Time for epoch 756 is 0.22204995155334473 sec \n",
      "Time for epoch 757 is 0.21935558319091797 sec \n",
      "Time for epoch 758 is 0.2199265956878662 sec \n",
      "Time for epoch 759 is 0.2153940200805664 sec \n",
      "Time for epoch 760 is 0.2176973819732666 sec \n",
      "Time for epoch 761 is 0.21680688858032227 sec \n",
      "Time for epoch 762 is 0.2264561653137207 sec \n",
      "Time for epoch 763 is 0.22234487533569336 sec \n",
      "Time for epoch 764 is 0.22348594665527344 sec \n",
      "Time for epoch 765 is 0.22105836868286133 sec \n",
      "Time for epoch 766 is 0.23534131050109863 sec \n",
      "Time for epoch 767 is 0.26197099685668945 sec \n",
      "Time for epoch 768 is 0.23490476608276367 sec \n",
      "Time for epoch 769 is 0.22809243202209473 sec \n",
      "Time for epoch 770 is 0.22733783721923828 sec \n",
      "Time for epoch 771 is 0.24887776374816895 sec \n",
      "Time for epoch 772 is 0.24278640747070312 sec \n",
      "Time for epoch 773 is 0.22177696228027344 sec \n",
      "Time for epoch 774 is 0.22618627548217773 sec \n",
      "Time for epoch 775 is 0.22424650192260742 sec \n",
      "Time for epoch 776 is 0.2204127311706543 sec \n",
      "Time for epoch 777 is 0.22196650505065918 sec \n",
      "Time for epoch 778 is 0.21706151962280273 sec \n",
      "Time for epoch 779 is 0.21709704399108887 sec \n",
      "Time for epoch 780 is 0.22545576095581055 sec \n",
      "Time for epoch 781 is 0.23289227485656738 sec \n",
      "Time for epoch 782 is 0.2206277847290039 sec \n",
      "Time for epoch 783 is 0.21989941596984863 sec \n",
      "Time for epoch 784 is 0.2307584285736084 sec \n",
      "Time for epoch 785 is 0.22333216667175293 sec \n",
      "Time for epoch 786 is 0.2300724983215332 sec \n",
      "Time for epoch 787 is 0.22158265113830566 sec \n",
      "Time for epoch 788 is 0.22544503211975098 sec \n",
      "Time for epoch 789 is 0.21955013275146484 sec \n",
      "Time for epoch 790 is 0.22396159172058105 sec \n",
      "Time for epoch 791 is 0.21831750869750977 sec \n",
      "Time for epoch 792 is 0.22635698318481445 sec \n",
      "Time for epoch 793 is 0.2225964069366455 sec \n",
      "Time for epoch 794 is 0.22051024436950684 sec \n",
      "Time for epoch 795 is 0.21315455436706543 sec \n",
      "Time for epoch 796 is 0.22133731842041016 sec \n",
      "Time for epoch 797 is 0.22103500366210938 sec \n",
      "Time for epoch 798 is 0.22918272018432617 sec \n",
      "Time for epoch 799 is 0.22394084930419922 sec \n",
      "Time for epoch 800 is 0.2232210636138916 sec \n",
      "Time for epoch 801 is 0.22170090675354004 sec \n",
      "Time for epoch 802 is 0.2285761833190918 sec \n",
      "Time for epoch 803 is 0.2258460521697998 sec \n",
      "Time for epoch 804 is 0.22307920455932617 sec \n",
      "Time for epoch 805 is 0.21771955490112305 sec \n",
      "Time for epoch 806 is 0.2209162712097168 sec \n",
      "Time for epoch 807 is 0.22268009185791016 sec \n",
      "Time for epoch 808 is 0.22952675819396973 sec \n",
      "Time for epoch 809 is 0.22082996368408203 sec \n",
      "Time for epoch 810 is 0.23033666610717773 sec \n",
      "Time for epoch 811 is 0.25197839736938477 sec \n",
      "Time for epoch 812 is 0.2270979881286621 sec \n",
      "Time for epoch 813 is 0.23195862770080566 sec \n",
      "Time for epoch 814 is 0.2275238037109375 sec \n",
      "Time for epoch 815 is 0.22814154624938965 sec \n",
      "Time for epoch 816 is 0.22296905517578125 sec \n",
      "Time for epoch 817 is 0.222764253616333 sec \n",
      "Time for epoch 818 is 0.22233319282531738 sec \n",
      "Time for epoch 819 is 0.2261066436767578 sec \n",
      "Time for epoch 820 is 0.22938990592956543 sec \n",
      "Time for epoch 821 is 0.2205827236175537 sec \n",
      "Time for epoch 822 is 0.21471595764160156 sec \n",
      "Time for epoch 823 is 0.22215986251831055 sec \n",
      "Time for epoch 824 is 0.22208023071289062 sec \n",
      "Time for epoch 825 is 0.22455048561096191 sec \n",
      "Time for epoch 826 is 0.29900240898132324 sec \n",
      "Time for epoch 827 is 0.27118897438049316 sec \n",
      "Time for epoch 828 is 0.26772618293762207 sec \n",
      "Time for epoch 829 is 0.2585113048553467 sec \n",
      "Time for epoch 830 is 0.24844098091125488 sec \n",
      "Time for epoch 831 is 0.2553708553314209 sec \n",
      "Time for epoch 832 is 0.26535487174987793 sec \n",
      "Time for epoch 833 is 0.25540590286254883 sec \n",
      "Time for epoch 834 is 0.23028254508972168 sec \n",
      "Time for epoch 835 is 0.22084593772888184 sec \n",
      "Time for epoch 836 is 0.22943639755249023 sec \n",
      "Time for epoch 837 is 0.23419594764709473 sec \n",
      "Time for epoch 838 is 0.22789311408996582 sec \n",
      "Time for epoch 839 is 0.22755002975463867 sec \n",
      "Time for epoch 840 is 0.2157282829284668 sec \n",
      "Time for epoch 841 is 0.2232656478881836 sec \n",
      "Time for epoch 842 is 0.22198009490966797 sec \n",
      "Time for epoch 843 is 0.22076916694641113 sec \n",
      "Time for epoch 844 is 0.21804165840148926 sec \n",
      "Time for epoch 845 is 0.22255396842956543 sec \n",
      "Time for epoch 846 is 0.2278575897216797 sec \n",
      "Time for epoch 847 is 0.23169875144958496 sec \n",
      "Time for epoch 848 is 0.22171330451965332 sec \n",
      "Time for epoch 849 is 0.22643804550170898 sec \n",
      "Time for epoch 850 is 0.22256803512573242 sec \n",
      "Time for epoch 851 is 0.22455406188964844 sec \n",
      "Time for epoch 852 is 0.22355914115905762 sec \n",
      "Time for epoch 853 is 0.2378988265991211 sec \n",
      "Time for epoch 854 is 0.27356457710266113 sec \n",
      "Time for epoch 855 is 0.2356433868408203 sec \n",
      "Time for epoch 856 is 0.23069500923156738 sec \n",
      "Time for epoch 857 is 0.22873163223266602 sec \n",
      "Time for epoch 858 is 0.22867608070373535 sec \n",
      "Time for epoch 859 is 0.22976183891296387 sec \n",
      "Time for epoch 860 is 0.22442269325256348 sec \n",
      "Time for epoch 861 is 0.22165226936340332 sec \n",
      "Time for epoch 862 is 0.21921944618225098 sec \n",
      "Time for epoch 863 is 0.22923040390014648 sec \n",
      "Time for epoch 864 is 0.22956037521362305 sec \n",
      "Time for epoch 865 is 0.2252058982849121 sec \n",
      "Time for epoch 866 is 0.22336387634277344 sec \n",
      "Time for epoch 867 is 0.22942447662353516 sec \n",
      "Time for epoch 868 is 0.23056530952453613 sec \n",
      "Time for epoch 869 is 0.2244727611541748 sec \n",
      "Time for epoch 870 is 0.22246313095092773 sec \n",
      "Time for epoch 871 is 0.2300248146057129 sec \n",
      "Time for epoch 872 is 0.23798680305480957 sec \n",
      "Time for epoch 873 is 0.2284679412841797 sec \n",
      "Time for epoch 874 is 0.22431731224060059 sec \n",
      "Time for epoch 875 is 0.23059535026550293 sec \n",
      "Time for epoch 876 is 0.22204136848449707 sec \n",
      "Time for epoch 877 is 0.2283916473388672 sec \n",
      "Time for epoch 878 is 0.22712087631225586 sec \n",
      "Time for epoch 879 is 0.2299633026123047 sec \n",
      "Time for epoch 880 is 0.22172021865844727 sec \n",
      "Time for epoch 881 is 0.2319507598876953 sec \n",
      "Time for epoch 882 is 0.21706771850585938 sec \n",
      "Time for epoch 883 is 0.2195286750793457 sec \n",
      "Time for epoch 884 is 0.22089672088623047 sec \n",
      "Time for epoch 885 is 0.22127842903137207 sec \n",
      "Time for epoch 886 is 0.22418618202209473 sec \n",
      "Time for epoch 887 is 0.22437167167663574 sec \n",
      "Time for epoch 888 is 0.2226860523223877 sec \n",
      "Time for epoch 889 is 0.22230076789855957 sec \n",
      "Time for epoch 890 is 0.2294168472290039 sec \n",
      "Time for epoch 891 is 0.2218923568725586 sec \n",
      "Time for epoch 892 is 0.21717333793640137 sec \n",
      "Time for epoch 893 is 0.22035932540893555 sec \n",
      "Time for epoch 894 is 0.2345433235168457 sec \n",
      "Time for epoch 895 is 0.22646546363830566 sec \n",
      "Time for epoch 896 is 0.2224867343902588 sec \n",
      "Time for epoch 897 is 0.23335647583007812 sec \n",
      "Time for epoch 898 is 0.26691126823425293 sec \n",
      "Time for epoch 899 is 0.2311701774597168 sec \n",
      "Time for epoch 900 is 0.2216479778289795 sec \n",
      "Time for epoch 901 is 0.21750950813293457 sec \n",
      "Time for epoch 902 is 0.22951793670654297 sec \n",
      "Time for epoch 903 is 0.25400853157043457 sec \n",
      "Time for epoch 904 is 0.22658824920654297 sec \n",
      "Time for epoch 905 is 0.22342419624328613 sec \n",
      "Time for epoch 906 is 0.22110342979431152 sec \n",
      "Time for epoch 907 is 0.22944068908691406 sec \n",
      "Time for epoch 908 is 0.22719264030456543 sec \n",
      "Time for epoch 909 is 0.22260713577270508 sec \n",
      "Time for epoch 910 is 0.22992777824401855 sec \n",
      "Time for epoch 911 is 0.2249448299407959 sec \n",
      "Time for epoch 912 is 0.22681760787963867 sec \n",
      "Time for epoch 913 is 0.21575093269348145 sec \n",
      "Time for epoch 914 is 0.22462964057922363 sec \n",
      "Time for epoch 915 is 0.2219240665435791 sec \n",
      "Time for epoch 916 is 0.22866225242614746 sec \n",
      "Time for epoch 917 is 0.22589802742004395 sec \n",
      "Time for epoch 918 is 0.21932530403137207 sec \n",
      "Time for epoch 919 is 0.22108244895935059 sec \n",
      "Time for epoch 920 is 0.22143054008483887 sec \n",
      "Time for epoch 921 is 0.22242379188537598 sec \n",
      "Time for epoch 922 is 0.22144651412963867 sec \n",
      "Time for epoch 923 is 0.22005701065063477 sec \n",
      "Time for epoch 924 is 0.22455573081970215 sec \n",
      "Time for epoch 925 is 0.22243642807006836 sec \n",
      "Time for epoch 926 is 0.22091984748840332 sec \n",
      "Time for epoch 927 is 0.2231903076171875 sec \n",
      "Time for epoch 928 is 0.22052907943725586 sec \n",
      "Time for epoch 929 is 0.22157859802246094 sec \n",
      "Time for epoch 930 is 0.22634363174438477 sec \n",
      "Time for epoch 931 is 0.22388339042663574 sec \n",
      "Time for epoch 932 is 0.2200331687927246 sec \n",
      "Time for epoch 933 is 0.2208704948425293 sec \n",
      "Time for epoch 934 is 0.2244584560394287 sec \n",
      "Time for epoch 935 is 0.22251605987548828 sec \n",
      "Time for epoch 936 is 0.2229909896850586 sec \n",
      "Time for epoch 937 is 0.22037959098815918 sec \n",
      "Time for epoch 938 is 0.21974992752075195 sec \n",
      "Time for epoch 939 is 0.22211599349975586 sec \n",
      "Time for epoch 940 is 0.22298765182495117 sec \n",
      "Time for epoch 941 is 0.22156476974487305 sec \n",
      "Time for epoch 942 is 0.254105806350708 sec \n",
      "Time for epoch 943 is 0.26171112060546875 sec \n",
      "Time for epoch 944 is 0.22481322288513184 sec \n",
      "Time for epoch 945 is 0.2228844165802002 sec \n",
      "Time for epoch 946 is 0.2192680835723877 sec \n",
      "Time for epoch 947 is 0.22752594947814941 sec \n",
      "Time for epoch 948 is 0.21996378898620605 sec \n",
      "Time for epoch 949 is 0.21893072128295898 sec \n",
      "Time for epoch 950 is 0.2256467342376709 sec \n",
      "Time for epoch 951 is 0.21963191032409668 sec \n",
      "Time for epoch 952 is 0.2229471206665039 sec \n",
      "Time for epoch 953 is 0.22156286239624023 sec \n",
      "Time for epoch 954 is 0.21927642822265625 sec \n",
      "Time for epoch 955 is 0.21318650245666504 sec \n",
      "Time for epoch 956 is 0.22240829467773438 sec \n",
      "Time for epoch 957 is 0.21817946434020996 sec \n",
      "Time for epoch 958 is 0.21655869483947754 sec \n",
      "Time for epoch 959 is 0.21660971641540527 sec \n",
      "Time for epoch 960 is 0.21704649925231934 sec \n",
      "Time for epoch 961 is 0.2239665985107422 sec \n",
      "Time for epoch 962 is 0.2211322784423828 sec \n",
      "Time for epoch 963 is 0.21316313743591309 sec \n",
      "Time for epoch 964 is 0.22112083435058594 sec \n",
      "Time for epoch 965 is 0.22336602210998535 sec \n",
      "Time for epoch 966 is 0.2200334072113037 sec \n",
      "Time for epoch 967 is 0.2187061309814453 sec \n",
      "Time for epoch 968 is 0.26159048080444336 sec \n",
      "Time for epoch 969 is 0.2757837772369385 sec \n",
      "Time for epoch 970 is 0.257016658782959 sec \n",
      "Time for epoch 971 is 0.2773153781890869 sec \n",
      "Time for epoch 972 is 0.25299692153930664 sec \n",
      "Time for epoch 973 is 0.2564365863800049 sec \n",
      "Time for epoch 974 is 0.24994182586669922 sec \n",
      "Time for epoch 975 is 0.2557666301727295 sec \n",
      "Time for epoch 976 is 0.24214959144592285 sec \n",
      "Time for epoch 977 is 0.2200450897216797 sec \n",
      "Time for epoch 978 is 0.22202229499816895 sec \n",
      "Time for epoch 979 is 0.21594905853271484 sec \n",
      "Time for epoch 980 is 0.21641230583190918 sec \n",
      "Time for epoch 981 is 0.21776032447814941 sec \n",
      "Time for epoch 982 is 0.22292494773864746 sec \n",
      "Time for epoch 983 is 0.22066903114318848 sec \n",
      "Time for epoch 984 is 0.2142961025238037 sec \n",
      "Time for epoch 985 is 0.22812294960021973 sec \n",
      "Time for epoch 986 is 0.2640836238861084 sec \n",
      "Time for epoch 987 is 0.2258610725402832 sec \n",
      "Time for epoch 988 is 0.21970772743225098 sec \n",
      "Time for epoch 989 is 0.21836256980895996 sec \n",
      "Time for epoch 990 is 0.22309589385986328 sec \n",
      "Time for epoch 991 is 0.22474312782287598 sec \n",
      "Time for epoch 992 is 0.21609139442443848 sec \n",
      "Time for epoch 993 is 0.2173140048980713 sec \n",
      "Time for epoch 994 is 0.22333478927612305 sec \n",
      "Time for epoch 995 is 0.224137544631958 sec \n",
      "Time for epoch 996 is 0.22089171409606934 sec \n",
      "Time for epoch 997 is 0.22358179092407227 sec \n",
      "Time for epoch 998 is 0.21575546264648438 sec \n",
      "Time for epoch 999 is 0.22507071495056152 sec \n",
      "Time for epoch 1000 is 0.22512078285217285 sec \n"
     ]
    }
   ],
   "source": [
    "EPOCHS = 1000  # Set the number of epochs\n",
    "train(tf_dataset, EPOCHS)"
   ]
  },
  {
   "cell_type": "markdown",
   "id": "1ba7571d",
   "metadata": {
    "papermill": {
     "duration": 0.125386,
     "end_time": "2024-10-18T12:08:41.706194",
     "exception": false,
     "start_time": "2024-10-18T12:08:41.580808",
     "status": "completed"
    },
    "tags": []
   },
   "source": [
    "**Detecting Anomalies**"
   ]
  },
  {
   "cell_type": "code",
   "execution_count": 57,
   "id": "038dbbaf",
   "metadata": {
    "execution": {
     "iopub.execute_input": "2024-10-18T12:08:41.960052Z",
     "iopub.status.busy": "2024-10-18T12:08:41.959140Z",
     "iopub.status.idle": "2024-10-18T12:08:49.099964Z",
     "shell.execute_reply": "2024-10-18T12:08:49.098716Z"
    },
    "papermill": {
     "duration": 7.270868,
     "end_time": "2024-10-18T12:08:49.102838",
     "exception": false,
     "start_time": "2024-10-18T12:08:41.831970",
     "status": "completed"
    },
    "tags": []
   },
   "outputs": [
    {
     "name": "stdout",
     "output_type": "stream",
     "text": [
      "\u001b[1m3082/3082\u001b[0m \u001b[32m━━━━━━━━━━━━━━━━━━━━\u001b[0m\u001b[37m\u001b[0m \u001b[1m5s\u001b[0m 2ms/step\n"
     ]
    }
   ],
   "source": [
    "sample_size = 0.2\n",
    "\n",
    "X_test_sampled = X_test.sample(frac=sample_size, random_state=42).reset_index(drop=True)\n",
    "y_test_sampled = y_test[:X_test_sampled.shape[0]]\n",
    "\n",
    "y_pred=discriminator.predict(X_test_sampled)"
   ]
  },
  {
   "cell_type": "markdown",
   "id": "39fc3082",
   "metadata": {
    "papermill": {
     "duration": 0.143386,
     "end_time": "2024-10-18T12:08:49.384879",
     "exception": false,
     "start_time": "2024-10-18T12:08:49.241493",
     "status": "completed"
    },
    "tags": []
   },
   "source": [
    "**Model Evaluation**"
   ]
  },
  {
   "cell_type": "code",
   "execution_count": 58,
   "id": "61149059",
   "metadata": {
    "execution": {
     "iopub.execute_input": "2024-10-18T12:08:49.664647Z",
     "iopub.status.busy": "2024-10-18T12:08:49.664146Z",
     "iopub.status.idle": "2024-10-18T12:08:50.399674Z",
     "shell.execute_reply": "2024-10-18T12:08:50.398142Z"
    },
    "papermill": {
     "duration": 0.878837,
     "end_time": "2024-10-18T12:08:50.402682",
     "exception": false,
     "start_time": "2024-10-18T12:08:49.523845",
     "status": "completed"
    },
    "tags": []
   },
   "outputs": [
    {
     "data": {
      "image/png": "[encoded data removed]",
      "text/plain": [
       "<Figure size 1200x600 with 2 Axes>"
      ]
     },
     "metadata": {},
     "output_type": "display_data"
    }
   ],
   "source": [
    "epochs = range(1, len(history['gen']) + 1)\n",
    "\n",
    "plt.figure(figsize=(12, 6))\n",
    "\n",
    "# Plot Generator Loss\n",
    "plt.subplot(1, 2, 1)\n",
    "plt.plot(epochs, history['gen'], label='Generator Loss', color='blue')\n",
    "plt.title('Generator Loss Over Epochs')\n",
    "plt.xlabel('Epochs')\n",
    "plt.ylabel('Loss')\n",
    "plt.legend()\n",
    "\n",
    "# Plot Discriminator Loss\n",
    "plt.subplot(1, 2, 2)\n",
    "plt.plot(epochs, history['dis'], label='Discriminator Loss', color='red')\n",
    "plt.title('Discriminator Loss Over Epochs')\n",
    "plt.xlabel('Epochs')\n",
    "plt.ylabel('Loss')\n",
    "plt.legend()\n",
    "\n",
    "plt.tight_layout()\n",
    "plt.show()"
   ]
  },
  {
   "cell_type": "markdown",
   "id": "707cd0c5",
   "metadata": {
    "papermill": {
     "duration": 0.140002,
     "end_time": "2024-10-18T12:08:50.683076",
     "exception": false,
     "start_time": "2024-10-18T12:08:50.543074",
     "status": "completed"
    },
    "tags": []
   },
   "source": [
    "**Find Optimal Threshold**"
   ]
  },
  {
   "cell_type": "code",
   "execution_count": 59,
   "id": "69aaabab",
   "metadata": {
    "execution": {
     "iopub.execute_input": "2024-10-18T12:08:50.962506Z",
     "iopub.status.busy": "2024-10-18T12:08:50.961996Z",
     "iopub.status.idle": "2024-10-18T12:08:53.705759Z",
     "shell.execute_reply": "2024-10-18T12:08:53.704064Z"
    },
    "papermill": {
     "duration": 2.886037,
     "end_time": "2024-10-18T12:08:53.708676",
     "exception": false,
     "start_time": "2024-10-18T12:08:50.822639",
     "status": "completed"
    },
    "tags": []
   },
   "outputs": [
    {
     "name": "stdout",
     "output_type": "stream",
     "text": [
      "prob =0.2 and f1 score =0.00118601511538413 : accuracy=0.19716238692142307 : precision=0.8031886619326777 : recall=0.0005934493295285234\n",
      "98545 59\n",
      "prob =0.4 and f1 score =0.001236452642602102 : accuracy=0.19718267007423634 : precision=0.8031926215356361 : recall=0.000618702492487184\n",
      "98543 61\n",
      "prob =0.6 and f1 score =0.0012616704516780215 : accuracy=0.19719281165064298 : precision=0.8031946257824504 : recall=0.0006313290739665143\n",
      "98542 62\n",
      "prob =0.8 and f1 score =0.0013121041608841562 : accuracy=0.19721309480345625 : precision=0.8031986793471658 : recall=0.0006565822369251749\n",
      "98540 64\n",
      "prob =1.0 and f1 score =0.0013373200610625386 : accuracy=0.1972232363798629 : precision=0.8032007272782643 : recall=0.0006692088184045052\n",
      "98539 65\n"
     ]
    }
   ],
   "source": [
    "from sklearn.metrics import average_precision_score, accuracy_score ,recall_score, f1_score\n",
    "prob=[0.2,0.4,0.6,0.8,1.0]\n",
    "for p in prob:\n",
    "    pred_value =[1 if i<p  else 0 for i in y_pred]\n",
    "    f1=f1_score(y_test_sampled,pred_value)\n",
    "    acc=accuracy_score(y_test_sampled,pred_value)\n",
    "    precision=average_precision_score(y_test_sampled,pred_value)\n",
    "    recall= recall_score(y_test_sampled,pred_value)\n",
    "    print(f'prob ={p} and f1 score ={f1} : accuracy={acc} : precision={precision} : recall={recall}')\n",
    "    print(pred_value.count(0),pred_value.count(1))"
   ]
  },
  {
   "cell_type": "markdown",
   "id": "3c7348a1",
   "metadata": {
    "papermill": {
     "duration": 0.13891,
     "end_time": "2024-10-18T12:08:53.987892",
     "exception": false,
     "start_time": "2024-10-18T12:08:53.848982",
     "status": "completed"
    },
    "tags": []
   },
   "source": [
    "**Key Observations**\n",
    "\n",
    "Probabilities: The probabilities being tested range from 0.2 to 1.0. As we increase the threshold, the F1 score slightly improves, but remains low across all thresholds (hovering around 0.119).\n",
    "\n",
    "F1 Score: The F1 scores are consistently low, indicating a poor balance between precision and recall. Despite slight increases, they are far from optimal values (which typically range from 0 to 1, with 1 being perfect).\n",
    "\n",
    "Accuracy: The accuracy remains around 0.238, suggesting that approximately 23.8% of predictions are correct. This indicates that the model might be biased toward predicting the negative class due to the low recall.\n",
    "\n",
    "Precision and Recall:\n",
    "\n",
    "Precision remains relatively high (around 0.802), suggesting that when the model predicts a positive class, it is correct about 80% of the time.\n",
    "\n",
    "Recall is extremely low (around 0.064), indicating that the model is failing to identify a significant number of actual positive instances.\n",
    "\n",
    "Confusion Matrix: Given the counts (e.g., 18522 1239 for probabilities of 0.2): This indicates a strong bias toward the negative class with very few true positives identified."
   ]
  },
  {
   "cell_type": "markdown",
   "id": "04fcd327",
   "metadata": {
    "papermill": {
     "duration": 0.140643,
     "end_time": "2024-10-18T12:08:54.267842",
     "exception": false,
     "start_time": "2024-10-18T12:08:54.127199",
     "status": "completed"
    },
    "tags": []
   },
   "source": [
    "**Next Steps for Improvement**"
   ]
  },
  {
   "cell_type": "markdown",
   "id": "fa910d83",
   "metadata": {
    "papermill": {
     "duration": 0.140188,
     "end_time": "2024-10-18T12:08:54.551159",
     "exception": false,
     "start_time": "2024-10-18T12:08:54.410971",
     "status": "completed"
    },
    "tags": []
   },
   "source": [
    "**Model Architecture Review:**\n",
    "\n",
    "Use a sigmoid activation for binary classification.\n",
    "\n",
    "\n",
    "**Class Imbalance Handling:**\n",
    "\n",
    "Implement oversampling of the minority class or undersampling of the majority class.\n",
    "\n",
    "Use SMOTE (Synthetic Minority Over-sampling Technique) to generate synthetic samples.\n",
    "\n",
    "**Threshold Optimization:**\n",
    "\n",
    "Evaluate different thresholds to maximize the F1 score or achieve a desired balance between precision and recall.\n",
    "\n",
    "**Hyperparameter Tuning:**\n",
    "\n",
    "Experiment with different hyperparameters (learning rate, batch size, etc.) using techniques like Grid Search or Random Search.\n",
    "\n",
    "**Regularization Techniques:**\n",
    "\n",
    "Apply regularization methods (like L1 or L2) to prevent overfitting and improve generalization.\n",
    "\n",
    "**Experiment with Different Models:**\n",
    "\n",
    "Consider testing various algorithms (like XGBoost, LightGBM, or neural networks) to find the best fit for data."
   ]
  }
 ],
 "metadata": {
  "kaggle": {
   "accelerator": "none",
   "dataSources": [
    {
     "datasetId": 90131,
     "sourceId": 208170,
     "sourceType": "datasetVersion"
    }
   ],
   "dockerImageVersionId": 30787,
   "isGpuEnabled": false,
   "isInternetEnabled": true,
   "language": "python",
   "sourceType": "notebook"
  },
  "kernelspec": {
   "display_name": "Python 3",
   "language": "python",
   "name": "python3"
  },
  "language_info": {
   "codemirror_mode": {
    "name": "ipython",
    "version": 3
   },
   "file_extension": ".py",
   "mimetype": "text/x-python",
   "name": "python",
   "nbconvert_exporter": "python",
   "pygments_lexer": "ipython3",
   "version": "3.10.14"
  },
  "papermill": {
   "default_parameters": {},
   "duration": 287.78406,
   "end_time": "2024-10-18T12:08:57.552485",
   "environment_variables": {},
   "exception": null,
   "input_path": "__notebook__.ipynb",
   "output_path": "__notebook__.ipynb",
   "parameters": {},
   "start_time": "2024-10-18T12:04:09.768425",
   "version": "2.6.0"
  }
 },
 "nbformat": 4,
 "nbformat_minor": 5
}
